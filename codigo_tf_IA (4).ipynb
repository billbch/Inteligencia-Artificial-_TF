{
  "nbformat": 4,
  "nbformat_minor": 0,
  "metadata": {
    "kernelspec": {
      "language": "python",
      "display_name": "Python 3",
      "name": "python3"
    },
    "language_info": {
      "pygments_lexer": "ipython3",
      "nbconvert_exporter": "python",
      "version": "3.6.4",
      "file_extension": ".py",
      "codemirror_mode": {
        "name": "ipython",
        "version": 3
      },
      "name": "python",
      "mimetype": "text/x-python"
    },
    "colab": {
      "name": "codigo_tf_IA.ipynb",
      "provenance": [],
      "collapsed_sections": [
        "3K3mSicO5aym"
      ]
    }
  },
  "cells": [
    {
      "cell_type": "markdown",
      "metadata": {
        "id": "SeNMU4_T-duD"
      },
      "source": [
        "# Trabajo Final\n",
        "## Curso: Inteligencia Artificial\n",
        "## Profesor: Hugo David Calderon Vilca\n",
        "## Integrantes:\n",
        "* Sebastian Wilder Contreras Rosas - U20171D516\n",
        "* Bill Brandon Chávez Arias - U20171042\n",
        "* Carlos Vincent Tarazona Hurtado - U201712780"
      ]
    },
    {
      "cell_type": "markdown",
      "metadata": {
        "id": "Om341a4W69Xz"
      },
      "source": [
        "## Descarga del dataset"
      ]
    },
    {
      "cell_type": "code",
      "metadata": {
        "colab": {
          "base_uri": "https://localhost:8080/"
        },
        "id": "MCC2Br546HQv",
        "outputId": "fb691434-3212-4963-a742-fe2a96bb3153"
      },
      "source": [
        "!gdown --id 1ex0qV-9X4XPoQcj-FIug4AXEGqTJQ4xp\n",
        "!unzip datasetFinal.zip"
      ],
      "execution_count": 1,
      "outputs": [
        {
          "output_type": "stream",
          "text": [
            "Downloading...\n",
            "From: https://drive.google.com/uc?id=1ex0qV-9X4XPoQcj-FIug4AXEGqTJQ4xp\n",
            "To: /content/datasetFinal.zip\n",
            "46.8MB [00:00, 68.7MB/s]\n",
            "Archive:  datasetFinal.zip\n",
            "  inflating: studentAssessment.csv   \n",
            "  inflating: studentVle.csv          \n",
            "  inflating: assessments.csv         \n",
            "  inflating: courses.csv             \n",
            "  inflating: studentInfo.csv         \n",
            "  inflating: studentRegistration.csv  \n",
            "  inflating: vle.csv                 \n"
          ],
          "name": "stdout"
        }
      ]
    },
    {
      "cell_type": "markdown",
      "metadata": {
        "id": "_pEPsx6y7B__"
      },
      "source": [
        "## Librerías\n",
        "\n",
        "- Numpy, para el manejo de arreglos\n",
        "- Pandas, para el manejo de dataframes.\n",
        "- Matplotlib y seaborn, para los gráficos.\n",
        "- Sklearn, para el preprocesamiento.\n",
        "- Tensorflow, para la configuración de la red neuronal."
      ]
    },
    {
      "cell_type": "code",
      "metadata": {
        "id": "873p01P36rY4"
      },
      "source": [
        "import numpy as np\n",
        "import pandas as pd\n",
        "\n",
        "import matplotlib.pyplot as plt\n",
        "import seaborn as sns\n",
        "\n",
        "from sklearn.metrics import classification_report, confusion_matrix\n",
        "from sklearn.model_selection import train_test_split\n",
        "from tensorflow.keras.models import Sequential\n",
        "from tensorflow.keras.layers import Dense, Dropout\n",
        "from tensorflow.keras import backend\n",
        "\n",
        "from sklearn.preprocessing import LabelBinarizer, MinMaxScaler"
      ],
      "execution_count": 2,
      "outputs": []
    },
    {
      "cell_type": "markdown",
      "metadata": {
        "id": "3B--hX0F7d8p"
      },
      "source": [
        "## Análisis de dataset"
      ]
    },
    {
      "cell_type": "markdown",
      "metadata": {
        "id": "X7HcXnMt7gYf"
      },
      "source": [
        "### Lectura de los archivos .csv"
      ]
    },
    {
      "cell_type": "code",
      "metadata": {
        "execution": {
          "iopub.status.busy": "2021-06-19T15:57:31.754482Z",
          "iopub.execute_input": "2021-06-19T15:57:31.754747Z",
          "iopub.status.idle": "2021-06-19T15:57:39.369772Z",
          "shell.execute_reply.started": "2021-06-19T15:57:31.754721Z",
          "shell.execute_reply": "2021-06-19T15:57:39.369015Z"
        },
        "trusted": true,
        "id": "ASQdzBrr5aya",
        "colab": {
          "base_uri": "https://localhost:8080/",
          "height": 206
        },
        "outputId": "bcbdff39-d94c-4673-a8d6-7e14b5ab174f"
      },
      "source": [
        "studentInfo=pd.read_csv(\"studentInfo.csv\")\n",
        "studentInfo.head()"
      ],
      "execution_count": 3,
      "outputs": [
        {
          "output_type": "execute_result",
          "data": {
            "text/html": [
              "<div>\n",
              "<style scoped>\n",
              "    .dataframe tbody tr th:only-of-type {\n",
              "        vertical-align: middle;\n",
              "    }\n",
              "\n",
              "    .dataframe tbody tr th {\n",
              "        vertical-align: top;\n",
              "    }\n",
              "\n",
              "    .dataframe thead th {\n",
              "        text-align: right;\n",
              "    }\n",
              "</style>\n",
              "<table border=\"1\" class=\"dataframe\">\n",
              "  <thead>\n",
              "    <tr style=\"text-align: right;\">\n",
              "      <th></th>\n",
              "      <th>code_module</th>\n",
              "      <th>code_presentation</th>\n",
              "      <th>id_student</th>\n",
              "      <th>gender</th>\n",
              "      <th>region</th>\n",
              "      <th>highest_education</th>\n",
              "      <th>imd_band</th>\n",
              "      <th>age_band</th>\n",
              "      <th>num_of_prev_attempts</th>\n",
              "      <th>studied_credits</th>\n",
              "      <th>disability</th>\n",
              "      <th>final_result</th>\n",
              "    </tr>\n",
              "  </thead>\n",
              "  <tbody>\n",
              "    <tr>\n",
              "      <th>0</th>\n",
              "      <td>AAA</td>\n",
              "      <td>2013J</td>\n",
              "      <td>11391</td>\n",
              "      <td>M</td>\n",
              "      <td>East Anglian Region</td>\n",
              "      <td>HE Qualification</td>\n",
              "      <td>90-100%</td>\n",
              "      <td>55&lt;=</td>\n",
              "      <td>0</td>\n",
              "      <td>240</td>\n",
              "      <td>N</td>\n",
              "      <td>Pass</td>\n",
              "    </tr>\n",
              "    <tr>\n",
              "      <th>1</th>\n",
              "      <td>AAA</td>\n",
              "      <td>2013J</td>\n",
              "      <td>28400</td>\n",
              "      <td>F</td>\n",
              "      <td>Scotland</td>\n",
              "      <td>HE Qualification</td>\n",
              "      <td>20-30%</td>\n",
              "      <td>35-55</td>\n",
              "      <td>0</td>\n",
              "      <td>60</td>\n",
              "      <td>N</td>\n",
              "      <td>Pass</td>\n",
              "    </tr>\n",
              "    <tr>\n",
              "      <th>2</th>\n",
              "      <td>AAA</td>\n",
              "      <td>2013J</td>\n",
              "      <td>30268</td>\n",
              "      <td>F</td>\n",
              "      <td>North Western Region</td>\n",
              "      <td>A Level or Equivalent</td>\n",
              "      <td>30-40%</td>\n",
              "      <td>35-55</td>\n",
              "      <td>0</td>\n",
              "      <td>60</td>\n",
              "      <td>Y</td>\n",
              "      <td>Withdrawn</td>\n",
              "    </tr>\n",
              "    <tr>\n",
              "      <th>3</th>\n",
              "      <td>AAA</td>\n",
              "      <td>2013J</td>\n",
              "      <td>31604</td>\n",
              "      <td>F</td>\n",
              "      <td>South East Region</td>\n",
              "      <td>A Level or Equivalent</td>\n",
              "      <td>50-60%</td>\n",
              "      <td>35-55</td>\n",
              "      <td>0</td>\n",
              "      <td>60</td>\n",
              "      <td>N</td>\n",
              "      <td>Pass</td>\n",
              "    </tr>\n",
              "    <tr>\n",
              "      <th>4</th>\n",
              "      <td>AAA</td>\n",
              "      <td>2013J</td>\n",
              "      <td>32885</td>\n",
              "      <td>F</td>\n",
              "      <td>West Midlands Region</td>\n",
              "      <td>Lower Than A Level</td>\n",
              "      <td>50-60%</td>\n",
              "      <td>0-35</td>\n",
              "      <td>0</td>\n",
              "      <td>60</td>\n",
              "      <td>N</td>\n",
              "      <td>Pass</td>\n",
              "    </tr>\n",
              "  </tbody>\n",
              "</table>\n",
              "</div>"
            ],
            "text/plain": [
              "  code_module code_presentation  ...  disability final_result\n",
              "0         AAA             2013J  ...           N         Pass\n",
              "1         AAA             2013J  ...           N         Pass\n",
              "2         AAA             2013J  ...           Y    Withdrawn\n",
              "3         AAA             2013J  ...           N         Pass\n",
              "4         AAA             2013J  ...           N         Pass\n",
              "\n",
              "[5 rows x 12 columns]"
            ]
          },
          "metadata": {
            "tags": []
          },
          "execution_count": 3
        }
      ]
    },
    {
      "cell_type": "code",
      "metadata": {
        "id": "eqDoZoct8t3P",
        "colab": {
          "base_uri": "https://localhost:8080/",
          "height": 206
        },
        "outputId": "40bb4f47-9245-4d4d-c0d8-c307f2ed9ae0"
      },
      "source": [
        "assessments=pd.read_csv(\"assessments.csv\")\n",
        "assessments.head()"
      ],
      "execution_count": 4,
      "outputs": [
        {
          "output_type": "execute_result",
          "data": {
            "text/html": [
              "<div>\n",
              "<style scoped>\n",
              "    .dataframe tbody tr th:only-of-type {\n",
              "        vertical-align: middle;\n",
              "    }\n",
              "\n",
              "    .dataframe tbody tr th {\n",
              "        vertical-align: top;\n",
              "    }\n",
              "\n",
              "    .dataframe thead th {\n",
              "        text-align: right;\n",
              "    }\n",
              "</style>\n",
              "<table border=\"1\" class=\"dataframe\">\n",
              "  <thead>\n",
              "    <tr style=\"text-align: right;\">\n",
              "      <th></th>\n",
              "      <th>code_module</th>\n",
              "      <th>code_presentation</th>\n",
              "      <th>id_assessment</th>\n",
              "      <th>assessment_type</th>\n",
              "      <th>date</th>\n",
              "      <th>weight</th>\n",
              "    </tr>\n",
              "  </thead>\n",
              "  <tbody>\n",
              "    <tr>\n",
              "      <th>0</th>\n",
              "      <td>AAA</td>\n",
              "      <td>2013J</td>\n",
              "      <td>1752</td>\n",
              "      <td>TMA</td>\n",
              "      <td>19.0</td>\n",
              "      <td>10.0</td>\n",
              "    </tr>\n",
              "    <tr>\n",
              "      <th>1</th>\n",
              "      <td>AAA</td>\n",
              "      <td>2013J</td>\n",
              "      <td>1753</td>\n",
              "      <td>TMA</td>\n",
              "      <td>54.0</td>\n",
              "      <td>20.0</td>\n",
              "    </tr>\n",
              "    <tr>\n",
              "      <th>2</th>\n",
              "      <td>AAA</td>\n",
              "      <td>2013J</td>\n",
              "      <td>1754</td>\n",
              "      <td>TMA</td>\n",
              "      <td>117.0</td>\n",
              "      <td>20.0</td>\n",
              "    </tr>\n",
              "    <tr>\n",
              "      <th>3</th>\n",
              "      <td>AAA</td>\n",
              "      <td>2013J</td>\n",
              "      <td>1755</td>\n",
              "      <td>TMA</td>\n",
              "      <td>166.0</td>\n",
              "      <td>20.0</td>\n",
              "    </tr>\n",
              "    <tr>\n",
              "      <th>4</th>\n",
              "      <td>AAA</td>\n",
              "      <td>2013J</td>\n",
              "      <td>1756</td>\n",
              "      <td>TMA</td>\n",
              "      <td>215.0</td>\n",
              "      <td>30.0</td>\n",
              "    </tr>\n",
              "  </tbody>\n",
              "</table>\n",
              "</div>"
            ],
            "text/plain": [
              "  code_module code_presentation  id_assessment assessment_type   date  weight\n",
              "0         AAA             2013J           1752             TMA   19.0    10.0\n",
              "1         AAA             2013J           1753             TMA   54.0    20.0\n",
              "2         AAA             2013J           1754             TMA  117.0    20.0\n",
              "3         AAA             2013J           1755             TMA  166.0    20.0\n",
              "4         AAA             2013J           1756             TMA  215.0    30.0"
            ]
          },
          "metadata": {
            "tags": []
          },
          "execution_count": 4
        }
      ]
    },
    {
      "cell_type": "code",
      "metadata": {
        "id": "KZ1SZdXN8xAt",
        "colab": {
          "base_uri": "https://localhost:8080/",
          "height": 206
        },
        "outputId": "4c70f732-4385-4466-f9d4-98e851b2779e"
      },
      "source": [
        "studentAssessment=pd.read_csv(\"studentAssessment.csv\")\n",
        "studentAssessment.head()"
      ],
      "execution_count": 5,
      "outputs": [
        {
          "output_type": "execute_result",
          "data": {
            "text/html": [
              "<div>\n",
              "<style scoped>\n",
              "    .dataframe tbody tr th:only-of-type {\n",
              "        vertical-align: middle;\n",
              "    }\n",
              "\n",
              "    .dataframe tbody tr th {\n",
              "        vertical-align: top;\n",
              "    }\n",
              "\n",
              "    .dataframe thead th {\n",
              "        text-align: right;\n",
              "    }\n",
              "</style>\n",
              "<table border=\"1\" class=\"dataframe\">\n",
              "  <thead>\n",
              "    <tr style=\"text-align: right;\">\n",
              "      <th></th>\n",
              "      <th>id_assessment</th>\n",
              "      <th>id_student</th>\n",
              "      <th>date_submitted</th>\n",
              "      <th>is_banked</th>\n",
              "      <th>score</th>\n",
              "    </tr>\n",
              "  </thead>\n",
              "  <tbody>\n",
              "    <tr>\n",
              "      <th>0</th>\n",
              "      <td>1752</td>\n",
              "      <td>11391</td>\n",
              "      <td>18</td>\n",
              "      <td>0</td>\n",
              "      <td>78.0</td>\n",
              "    </tr>\n",
              "    <tr>\n",
              "      <th>1</th>\n",
              "      <td>1752</td>\n",
              "      <td>28400</td>\n",
              "      <td>22</td>\n",
              "      <td>0</td>\n",
              "      <td>70.0</td>\n",
              "    </tr>\n",
              "    <tr>\n",
              "      <th>2</th>\n",
              "      <td>1752</td>\n",
              "      <td>31604</td>\n",
              "      <td>17</td>\n",
              "      <td>0</td>\n",
              "      <td>72.0</td>\n",
              "    </tr>\n",
              "    <tr>\n",
              "      <th>3</th>\n",
              "      <td>1752</td>\n",
              "      <td>32885</td>\n",
              "      <td>26</td>\n",
              "      <td>0</td>\n",
              "      <td>69.0</td>\n",
              "    </tr>\n",
              "    <tr>\n",
              "      <th>4</th>\n",
              "      <td>1752</td>\n",
              "      <td>38053</td>\n",
              "      <td>19</td>\n",
              "      <td>0</td>\n",
              "      <td>79.0</td>\n",
              "    </tr>\n",
              "  </tbody>\n",
              "</table>\n",
              "</div>"
            ],
            "text/plain": [
              "   id_assessment  id_student  date_submitted  is_banked  score\n",
              "0           1752       11391              18          0   78.0\n",
              "1           1752       28400              22          0   70.0\n",
              "2           1752       31604              17          0   72.0\n",
              "3           1752       32885              26          0   69.0\n",
              "4           1752       38053              19          0   79.0"
            ]
          },
          "metadata": {
            "tags": []
          },
          "execution_count": 5
        }
      ]
    },
    {
      "cell_type": "code",
      "metadata": {
        "id": "isR5Vxte8zKl",
        "colab": {
          "base_uri": "https://localhost:8080/",
          "height": 206
        },
        "outputId": "1bb1af76-0ce2-47e7-b544-4d85a2bee75d"
      },
      "source": [
        "studentVle=pd.read_csv(\"studentVle.csv\")\n",
        "studentVle.head()"
      ],
      "execution_count": 6,
      "outputs": [
        {
          "output_type": "execute_result",
          "data": {
            "text/html": [
              "<div>\n",
              "<style scoped>\n",
              "    .dataframe tbody tr th:only-of-type {\n",
              "        vertical-align: middle;\n",
              "    }\n",
              "\n",
              "    .dataframe tbody tr th {\n",
              "        vertical-align: top;\n",
              "    }\n",
              "\n",
              "    .dataframe thead th {\n",
              "        text-align: right;\n",
              "    }\n",
              "</style>\n",
              "<table border=\"1\" class=\"dataframe\">\n",
              "  <thead>\n",
              "    <tr style=\"text-align: right;\">\n",
              "      <th></th>\n",
              "      <th>code_module</th>\n",
              "      <th>code_presentation</th>\n",
              "      <th>id_student</th>\n",
              "      <th>id_site</th>\n",
              "      <th>date</th>\n",
              "      <th>sum_click</th>\n",
              "    </tr>\n",
              "  </thead>\n",
              "  <tbody>\n",
              "    <tr>\n",
              "      <th>0</th>\n",
              "      <td>AAA</td>\n",
              "      <td>2013J</td>\n",
              "      <td>28400</td>\n",
              "      <td>546652</td>\n",
              "      <td>-10</td>\n",
              "      <td>4</td>\n",
              "    </tr>\n",
              "    <tr>\n",
              "      <th>1</th>\n",
              "      <td>AAA</td>\n",
              "      <td>2013J</td>\n",
              "      <td>28400</td>\n",
              "      <td>546652</td>\n",
              "      <td>-10</td>\n",
              "      <td>1</td>\n",
              "    </tr>\n",
              "    <tr>\n",
              "      <th>2</th>\n",
              "      <td>AAA</td>\n",
              "      <td>2013J</td>\n",
              "      <td>28400</td>\n",
              "      <td>546652</td>\n",
              "      <td>-10</td>\n",
              "      <td>1</td>\n",
              "    </tr>\n",
              "    <tr>\n",
              "      <th>3</th>\n",
              "      <td>AAA</td>\n",
              "      <td>2013J</td>\n",
              "      <td>28400</td>\n",
              "      <td>546614</td>\n",
              "      <td>-10</td>\n",
              "      <td>11</td>\n",
              "    </tr>\n",
              "    <tr>\n",
              "      <th>4</th>\n",
              "      <td>AAA</td>\n",
              "      <td>2013J</td>\n",
              "      <td>28400</td>\n",
              "      <td>546714</td>\n",
              "      <td>-10</td>\n",
              "      <td>1</td>\n",
              "    </tr>\n",
              "  </tbody>\n",
              "</table>\n",
              "</div>"
            ],
            "text/plain": [
              "  code_module code_presentation  id_student  id_site  date  sum_click\n",
              "0         AAA             2013J       28400   546652   -10          4\n",
              "1         AAA             2013J       28400   546652   -10          1\n",
              "2         AAA             2013J       28400   546652   -10          1\n",
              "3         AAA             2013J       28400   546614   -10         11\n",
              "4         AAA             2013J       28400   546714   -10          1"
            ]
          },
          "metadata": {
            "tags": []
          },
          "execution_count": 6
        }
      ]
    },
    {
      "cell_type": "code",
      "metadata": {
        "id": "KnBugDCA8zfx",
        "colab": {
          "base_uri": "https://localhost:8080/",
          "height": 206
        },
        "outputId": "9033d08f-84dc-406e-f206-67d53fab50a9"
      },
      "source": [
        "vle=pd.read_csv(\"vle.csv\")\n",
        "vle.head()"
      ],
      "execution_count": 7,
      "outputs": [
        {
          "output_type": "execute_result",
          "data": {
            "text/html": [
              "<div>\n",
              "<style scoped>\n",
              "    .dataframe tbody tr th:only-of-type {\n",
              "        vertical-align: middle;\n",
              "    }\n",
              "\n",
              "    .dataframe tbody tr th {\n",
              "        vertical-align: top;\n",
              "    }\n",
              "\n",
              "    .dataframe thead th {\n",
              "        text-align: right;\n",
              "    }\n",
              "</style>\n",
              "<table border=\"1\" class=\"dataframe\">\n",
              "  <thead>\n",
              "    <tr style=\"text-align: right;\">\n",
              "      <th></th>\n",
              "      <th>id_site</th>\n",
              "      <th>code_module</th>\n",
              "      <th>code_presentation</th>\n",
              "      <th>activity_type</th>\n",
              "      <th>week_from</th>\n",
              "      <th>week_to</th>\n",
              "    </tr>\n",
              "  </thead>\n",
              "  <tbody>\n",
              "    <tr>\n",
              "      <th>0</th>\n",
              "      <td>546943</td>\n",
              "      <td>AAA</td>\n",
              "      <td>2013J</td>\n",
              "      <td>resource</td>\n",
              "      <td>NaN</td>\n",
              "      <td>NaN</td>\n",
              "    </tr>\n",
              "    <tr>\n",
              "      <th>1</th>\n",
              "      <td>546712</td>\n",
              "      <td>AAA</td>\n",
              "      <td>2013J</td>\n",
              "      <td>oucontent</td>\n",
              "      <td>NaN</td>\n",
              "      <td>NaN</td>\n",
              "    </tr>\n",
              "    <tr>\n",
              "      <th>2</th>\n",
              "      <td>546998</td>\n",
              "      <td>AAA</td>\n",
              "      <td>2013J</td>\n",
              "      <td>resource</td>\n",
              "      <td>NaN</td>\n",
              "      <td>NaN</td>\n",
              "    </tr>\n",
              "    <tr>\n",
              "      <th>3</th>\n",
              "      <td>546888</td>\n",
              "      <td>AAA</td>\n",
              "      <td>2013J</td>\n",
              "      <td>url</td>\n",
              "      <td>NaN</td>\n",
              "      <td>NaN</td>\n",
              "    </tr>\n",
              "    <tr>\n",
              "      <th>4</th>\n",
              "      <td>547035</td>\n",
              "      <td>AAA</td>\n",
              "      <td>2013J</td>\n",
              "      <td>resource</td>\n",
              "      <td>NaN</td>\n",
              "      <td>NaN</td>\n",
              "    </tr>\n",
              "  </tbody>\n",
              "</table>\n",
              "</div>"
            ],
            "text/plain": [
              "   id_site code_module code_presentation activity_type  week_from  week_to\n",
              "0   546943         AAA             2013J      resource        NaN      NaN\n",
              "1   546712         AAA             2013J     oucontent        NaN      NaN\n",
              "2   546998         AAA             2013J      resource        NaN      NaN\n",
              "3   546888         AAA             2013J           url        NaN      NaN\n",
              "4   547035         AAA             2013J      resource        NaN      NaN"
            ]
          },
          "metadata": {
            "tags": []
          },
          "execution_count": 7
        }
      ]
    },
    {
      "cell_type": "markdown",
      "metadata": {
        "id": "3Ss_ownK9o6t"
      },
      "source": [
        "### Obtenemos los assessments que no sean examenes y los contamos por presentación de un módulo."
      ]
    },
    {
      "cell_type": "code",
      "metadata": {
        "execution": {
          "iopub.status.busy": "2021-06-19T15:57:39.417221Z",
          "iopub.execute_input": "2021-06-19T15:57:39.417651Z",
          "iopub.status.idle": "2021-06-19T15:57:39.441324Z",
          "shell.execute_reply.started": "2021-06-19T15:57:39.417607Z",
          "shell.execute_reply": "2021-06-19T15:57:39.44038Z"
        },
        "trusted": true,
        "id": "jxAqDe8Y5ayc",
        "colab": {
          "base_uri": "https://localhost:8080/",
          "height": 739
        },
        "outputId": "abb7e45b-e81c-4401-e0c3-fe41cb6834fa"
      },
      "source": [
        "exams = assessments[assessments[\"assessment_type\"]==\"Exam\"]\n",
        "others = assessments[assessments[\"assessment_type\"]!=\"Exam\"]\n",
        "\n",
        "amounts_others = others.groupby([\"code_module\",\"code_presentation\"]).count()[\"id_assessment\"] \n",
        "amounts_others = amounts_others.reset_index()\n",
        "amounts_others"
      ],
      "execution_count": 8,
      "outputs": [
        {
          "output_type": "execute_result",
          "data": {
            "text/html": [
              "<div>\n",
              "<style scoped>\n",
              "    .dataframe tbody tr th:only-of-type {\n",
              "        vertical-align: middle;\n",
              "    }\n",
              "\n",
              "    .dataframe tbody tr th {\n",
              "        vertical-align: top;\n",
              "    }\n",
              "\n",
              "    .dataframe thead th {\n",
              "        text-align: right;\n",
              "    }\n",
              "</style>\n",
              "<table border=\"1\" class=\"dataframe\">\n",
              "  <thead>\n",
              "    <tr style=\"text-align: right;\">\n",
              "      <th></th>\n",
              "      <th>code_module</th>\n",
              "      <th>code_presentation</th>\n",
              "      <th>id_assessment</th>\n",
              "    </tr>\n",
              "  </thead>\n",
              "  <tbody>\n",
              "    <tr>\n",
              "      <th>0</th>\n",
              "      <td>AAA</td>\n",
              "      <td>2013J</td>\n",
              "      <td>5</td>\n",
              "    </tr>\n",
              "    <tr>\n",
              "      <th>1</th>\n",
              "      <td>AAA</td>\n",
              "      <td>2014J</td>\n",
              "      <td>5</td>\n",
              "    </tr>\n",
              "    <tr>\n",
              "      <th>2</th>\n",
              "      <td>BBB</td>\n",
              "      <td>2013B</td>\n",
              "      <td>11</td>\n",
              "    </tr>\n",
              "    <tr>\n",
              "      <th>3</th>\n",
              "      <td>BBB</td>\n",
              "      <td>2013J</td>\n",
              "      <td>11</td>\n",
              "    </tr>\n",
              "    <tr>\n",
              "      <th>4</th>\n",
              "      <td>BBB</td>\n",
              "      <td>2014B</td>\n",
              "      <td>11</td>\n",
              "    </tr>\n",
              "    <tr>\n",
              "      <th>5</th>\n",
              "      <td>BBB</td>\n",
              "      <td>2014J</td>\n",
              "      <td>5</td>\n",
              "    </tr>\n",
              "    <tr>\n",
              "      <th>6</th>\n",
              "      <td>CCC</td>\n",
              "      <td>2014B</td>\n",
              "      <td>8</td>\n",
              "    </tr>\n",
              "    <tr>\n",
              "      <th>7</th>\n",
              "      <td>CCC</td>\n",
              "      <td>2014J</td>\n",
              "      <td>8</td>\n",
              "    </tr>\n",
              "    <tr>\n",
              "      <th>8</th>\n",
              "      <td>DDD</td>\n",
              "      <td>2013B</td>\n",
              "      <td>13</td>\n",
              "    </tr>\n",
              "    <tr>\n",
              "      <th>9</th>\n",
              "      <td>DDD</td>\n",
              "      <td>2013J</td>\n",
              "      <td>6</td>\n",
              "    </tr>\n",
              "    <tr>\n",
              "      <th>10</th>\n",
              "      <td>DDD</td>\n",
              "      <td>2014B</td>\n",
              "      <td>6</td>\n",
              "    </tr>\n",
              "    <tr>\n",
              "      <th>11</th>\n",
              "      <td>DDD</td>\n",
              "      <td>2014J</td>\n",
              "      <td>6</td>\n",
              "    </tr>\n",
              "    <tr>\n",
              "      <th>12</th>\n",
              "      <td>EEE</td>\n",
              "      <td>2013J</td>\n",
              "      <td>4</td>\n",
              "    </tr>\n",
              "    <tr>\n",
              "      <th>13</th>\n",
              "      <td>EEE</td>\n",
              "      <td>2014B</td>\n",
              "      <td>4</td>\n",
              "    </tr>\n",
              "    <tr>\n",
              "      <th>14</th>\n",
              "      <td>EEE</td>\n",
              "      <td>2014J</td>\n",
              "      <td>4</td>\n",
              "    </tr>\n",
              "    <tr>\n",
              "      <th>15</th>\n",
              "      <td>FFF</td>\n",
              "      <td>2013B</td>\n",
              "      <td>12</td>\n",
              "    </tr>\n",
              "    <tr>\n",
              "      <th>16</th>\n",
              "      <td>FFF</td>\n",
              "      <td>2013J</td>\n",
              "      <td>12</td>\n",
              "    </tr>\n",
              "    <tr>\n",
              "      <th>17</th>\n",
              "      <td>FFF</td>\n",
              "      <td>2014B</td>\n",
              "      <td>12</td>\n",
              "    </tr>\n",
              "    <tr>\n",
              "      <th>18</th>\n",
              "      <td>FFF</td>\n",
              "      <td>2014J</td>\n",
              "      <td>12</td>\n",
              "    </tr>\n",
              "    <tr>\n",
              "      <th>19</th>\n",
              "      <td>GGG</td>\n",
              "      <td>2013J</td>\n",
              "      <td>9</td>\n",
              "    </tr>\n",
              "    <tr>\n",
              "      <th>20</th>\n",
              "      <td>GGG</td>\n",
              "      <td>2014B</td>\n",
              "      <td>9</td>\n",
              "    </tr>\n",
              "    <tr>\n",
              "      <th>21</th>\n",
              "      <td>GGG</td>\n",
              "      <td>2014J</td>\n",
              "      <td>9</td>\n",
              "    </tr>\n",
              "  </tbody>\n",
              "</table>\n",
              "</div>"
            ],
            "text/plain": [
              "   code_module code_presentation  id_assessment\n",
              "0          AAA             2013J              5\n",
              "1          AAA             2014J              5\n",
              "2          BBB             2013B             11\n",
              "3          BBB             2013J             11\n",
              "4          BBB             2014B             11\n",
              "5          BBB             2014J              5\n",
              "6          CCC             2014B              8\n",
              "7          CCC             2014J              8\n",
              "8          DDD             2013B             13\n",
              "9          DDD             2013J              6\n",
              "10         DDD             2014B              6\n",
              "11         DDD             2014J              6\n",
              "12         EEE             2013J              4\n",
              "13         EEE             2014B              4\n",
              "14         EEE             2014J              4\n",
              "15         FFF             2013B             12\n",
              "16         FFF             2013J             12\n",
              "17         FFF             2014B             12\n",
              "18         FFF             2014J             12\n",
              "19         GGG             2013J              9\n",
              "20         GGG             2014B              9\n",
              "21         GGG             2014J              9"
            ]
          },
          "metadata": {
            "tags": []
          },
          "execution_count": 8
        }
      ]
    },
    {
      "cell_type": "markdown",
      "metadata": {
        "id": "Xjp5XLz7CFwa"
      },
      "source": [
        "### Se realiza un inner join de las tablas \"studentAssessment\" y \"others\" (se creo anteriormente, se refiere a las evaluaciones que no son examenes)."
      ]
    },
    {
      "cell_type": "code",
      "metadata": {
        "execution": {
          "iopub.status.busy": "2021-06-19T15:57:39.442686Z",
          "iopub.execute_input": "2021-06-19T15:57:39.442949Z",
          "iopub.status.idle": "2021-06-19T15:57:39.517233Z",
          "shell.execute_reply.started": "2021-06-19T15:57:39.442924Z",
          "shell.execute_reply": "2021-06-19T15:57:39.516213Z"
        },
        "trusted": true,
        "id": "LRF8yPvr5ayc",
        "colab": {
          "base_uri": "https://localhost:8080/",
          "height": 363
        },
        "outputId": "31f25093-c515-4077-dc66-df1c47b04507"
      },
      "source": [
        "# Funcion que delvuelve True si el alumno aprobó una evaluación.\n",
        "def is_pass(grade):\n",
        "    if grade >= 40:\n",
        "        return True\n",
        "    else:\n",
        "        return False\n",
        "\n",
        "\n",
        "stud_ass = pd.merge(studentAssessment, others, how=\"inner\", on=[\"id_assessment\"])\n",
        "stud_ass[\"pass\"] = stud_ass[\"score\"].apply(is_pass)\n",
        "stud_ass[\"weighted_grade\"] = (stud_ass[\"score\"] * stud_ass[\"weight\"]) / 100\n",
        "\n",
        "stud_ass.head(10)"
      ],
      "execution_count": 9,
      "outputs": [
        {
          "output_type": "execute_result",
          "data": {
            "text/html": [
              "<div>\n",
              "<style scoped>\n",
              "    .dataframe tbody tr th:only-of-type {\n",
              "        vertical-align: middle;\n",
              "    }\n",
              "\n",
              "    .dataframe tbody tr th {\n",
              "        vertical-align: top;\n",
              "    }\n",
              "\n",
              "    .dataframe thead th {\n",
              "        text-align: right;\n",
              "    }\n",
              "</style>\n",
              "<table border=\"1\" class=\"dataframe\">\n",
              "  <thead>\n",
              "    <tr style=\"text-align: right;\">\n",
              "      <th></th>\n",
              "      <th>id_assessment</th>\n",
              "      <th>id_student</th>\n",
              "      <th>date_submitted</th>\n",
              "      <th>is_banked</th>\n",
              "      <th>score</th>\n",
              "      <th>code_module</th>\n",
              "      <th>code_presentation</th>\n",
              "      <th>assessment_type</th>\n",
              "      <th>date</th>\n",
              "      <th>weight</th>\n",
              "      <th>pass</th>\n",
              "      <th>weighted_grade</th>\n",
              "    </tr>\n",
              "  </thead>\n",
              "  <tbody>\n",
              "    <tr>\n",
              "      <th>0</th>\n",
              "      <td>1752</td>\n",
              "      <td>11391</td>\n",
              "      <td>18</td>\n",
              "      <td>0</td>\n",
              "      <td>78.0</td>\n",
              "      <td>AAA</td>\n",
              "      <td>2013J</td>\n",
              "      <td>TMA</td>\n",
              "      <td>19.0</td>\n",
              "      <td>10.0</td>\n",
              "      <td>True</td>\n",
              "      <td>7.8</td>\n",
              "    </tr>\n",
              "    <tr>\n",
              "      <th>1</th>\n",
              "      <td>1752</td>\n",
              "      <td>28400</td>\n",
              "      <td>22</td>\n",
              "      <td>0</td>\n",
              "      <td>70.0</td>\n",
              "      <td>AAA</td>\n",
              "      <td>2013J</td>\n",
              "      <td>TMA</td>\n",
              "      <td>19.0</td>\n",
              "      <td>10.0</td>\n",
              "      <td>True</td>\n",
              "      <td>7.0</td>\n",
              "    </tr>\n",
              "    <tr>\n",
              "      <th>2</th>\n",
              "      <td>1752</td>\n",
              "      <td>31604</td>\n",
              "      <td>17</td>\n",
              "      <td>0</td>\n",
              "      <td>72.0</td>\n",
              "      <td>AAA</td>\n",
              "      <td>2013J</td>\n",
              "      <td>TMA</td>\n",
              "      <td>19.0</td>\n",
              "      <td>10.0</td>\n",
              "      <td>True</td>\n",
              "      <td>7.2</td>\n",
              "    </tr>\n",
              "    <tr>\n",
              "      <th>3</th>\n",
              "      <td>1752</td>\n",
              "      <td>32885</td>\n",
              "      <td>26</td>\n",
              "      <td>0</td>\n",
              "      <td>69.0</td>\n",
              "      <td>AAA</td>\n",
              "      <td>2013J</td>\n",
              "      <td>TMA</td>\n",
              "      <td>19.0</td>\n",
              "      <td>10.0</td>\n",
              "      <td>True</td>\n",
              "      <td>6.9</td>\n",
              "    </tr>\n",
              "    <tr>\n",
              "      <th>4</th>\n",
              "      <td>1752</td>\n",
              "      <td>38053</td>\n",
              "      <td>19</td>\n",
              "      <td>0</td>\n",
              "      <td>79.0</td>\n",
              "      <td>AAA</td>\n",
              "      <td>2013J</td>\n",
              "      <td>TMA</td>\n",
              "      <td>19.0</td>\n",
              "      <td>10.0</td>\n",
              "      <td>True</td>\n",
              "      <td>7.9</td>\n",
              "    </tr>\n",
              "    <tr>\n",
              "      <th>5</th>\n",
              "      <td>1752</td>\n",
              "      <td>45462</td>\n",
              "      <td>20</td>\n",
              "      <td>0</td>\n",
              "      <td>70.0</td>\n",
              "      <td>AAA</td>\n",
              "      <td>2013J</td>\n",
              "      <td>TMA</td>\n",
              "      <td>19.0</td>\n",
              "      <td>10.0</td>\n",
              "      <td>True</td>\n",
              "      <td>7.0</td>\n",
              "    </tr>\n",
              "    <tr>\n",
              "      <th>6</th>\n",
              "      <td>1752</td>\n",
              "      <td>45642</td>\n",
              "      <td>18</td>\n",
              "      <td>0</td>\n",
              "      <td>72.0</td>\n",
              "      <td>AAA</td>\n",
              "      <td>2013J</td>\n",
              "      <td>TMA</td>\n",
              "      <td>19.0</td>\n",
              "      <td>10.0</td>\n",
              "      <td>True</td>\n",
              "      <td>7.2</td>\n",
              "    </tr>\n",
              "    <tr>\n",
              "      <th>7</th>\n",
              "      <td>1752</td>\n",
              "      <td>52130</td>\n",
              "      <td>19</td>\n",
              "      <td>0</td>\n",
              "      <td>72.0</td>\n",
              "      <td>AAA</td>\n",
              "      <td>2013J</td>\n",
              "      <td>TMA</td>\n",
              "      <td>19.0</td>\n",
              "      <td>10.0</td>\n",
              "      <td>True</td>\n",
              "      <td>7.2</td>\n",
              "    </tr>\n",
              "    <tr>\n",
              "      <th>8</th>\n",
              "      <td>1752</td>\n",
              "      <td>53025</td>\n",
              "      <td>9</td>\n",
              "      <td>0</td>\n",
              "      <td>71.0</td>\n",
              "      <td>AAA</td>\n",
              "      <td>2013J</td>\n",
              "      <td>TMA</td>\n",
              "      <td>19.0</td>\n",
              "      <td>10.0</td>\n",
              "      <td>True</td>\n",
              "      <td>7.1</td>\n",
              "    </tr>\n",
              "    <tr>\n",
              "      <th>9</th>\n",
              "      <td>1752</td>\n",
              "      <td>57506</td>\n",
              "      <td>18</td>\n",
              "      <td>0</td>\n",
              "      <td>68.0</td>\n",
              "      <td>AAA</td>\n",
              "      <td>2013J</td>\n",
              "      <td>TMA</td>\n",
              "      <td>19.0</td>\n",
              "      <td>10.0</td>\n",
              "      <td>True</td>\n",
              "      <td>6.8</td>\n",
              "    </tr>\n",
              "  </tbody>\n",
              "</table>\n",
              "</div>"
            ],
            "text/plain": [
              "   id_assessment  id_student  date_submitted  ...  weight  pass weighted_grade\n",
              "0           1752       11391              18  ...    10.0  True            7.8\n",
              "1           1752       28400              22  ...    10.0  True            7.0\n",
              "2           1752       31604              17  ...    10.0  True            7.2\n",
              "3           1752       32885              26  ...    10.0  True            6.9\n",
              "4           1752       38053              19  ...    10.0  True            7.9\n",
              "5           1752       45462              20  ...    10.0  True            7.0\n",
              "6           1752       45642              18  ...    10.0  True            7.2\n",
              "7           1752       52130              19  ...    10.0  True            7.2\n",
              "8           1752       53025               9  ...    10.0  True            7.1\n",
              "9           1752       57506              18  ...    10.0  True            6.8\n",
              "\n",
              "[10 rows x 12 columns]"
            ]
          },
          "metadata": {
            "tags": []
          },
          "execution_count": 9
        }
      ]
    },
    {
      "cell_type": "markdown",
      "metadata": {
        "id": "rVslod-9Djs_"
      },
      "source": [
        "### Promedio de las evaluaciones que no son exámenes de los estudiantes por presentación por módulo."
      ]
    },
    {
      "cell_type": "code",
      "metadata": {
        "execution": {
          "iopub.status.busy": "2021-06-19T15:57:39.518662Z",
          "iopub.execute_input": "2021-06-19T15:57:39.519069Z",
          "iopub.status.idle": "2021-06-19T15:57:39.600346Z",
          "shell.execute_reply.started": "2021-06-19T15:57:39.519027Z",
          "shell.execute_reply": "2021-06-19T15:57:39.599473Z"
        },
        "trusted": true,
        "id": "mUOp26yy5ayd",
        "colab": {
          "base_uri": "https://localhost:8080/",
          "height": 206
        },
        "outputId": "9fff1b09-beb7-4462-e278-ab706f5cad88"
      },
      "source": [
        "avg_grade_per_student = stud_ass.groupby([\"id_student\",\"code_module\",\"code_presentation\"]).sum()[\"weighted_grade\"].reset_index()\n",
        "avg_grade_per_student.head()"
      ],
      "execution_count": 10,
      "outputs": [
        {
          "output_type": "execute_result",
          "data": {
            "text/html": [
              "<div>\n",
              "<style scoped>\n",
              "    .dataframe tbody tr th:only-of-type {\n",
              "        vertical-align: middle;\n",
              "    }\n",
              "\n",
              "    .dataframe tbody tr th {\n",
              "        vertical-align: top;\n",
              "    }\n",
              "\n",
              "    .dataframe thead th {\n",
              "        text-align: right;\n",
              "    }\n",
              "</style>\n",
              "<table border=\"1\" class=\"dataframe\">\n",
              "  <thead>\n",
              "    <tr style=\"text-align: right;\">\n",
              "      <th></th>\n",
              "      <th>id_student</th>\n",
              "      <th>code_module</th>\n",
              "      <th>code_presentation</th>\n",
              "      <th>weighted_grade</th>\n",
              "    </tr>\n",
              "  </thead>\n",
              "  <tbody>\n",
              "    <tr>\n",
              "      <th>0</th>\n",
              "      <td>6516</td>\n",
              "      <td>AAA</td>\n",
              "      <td>2014J</td>\n",
              "      <td>63.50</td>\n",
              "    </tr>\n",
              "    <tr>\n",
              "      <th>1</th>\n",
              "      <td>8462</td>\n",
              "      <td>DDD</td>\n",
              "      <td>2013J</td>\n",
              "      <td>34.90</td>\n",
              "    </tr>\n",
              "    <tr>\n",
              "      <th>2</th>\n",
              "      <td>8462</td>\n",
              "      <td>DDD</td>\n",
              "      <td>2014J</td>\n",
              "      <td>43.00</td>\n",
              "    </tr>\n",
              "    <tr>\n",
              "      <th>3</th>\n",
              "      <td>11391</td>\n",
              "      <td>AAA</td>\n",
              "      <td>2013J</td>\n",
              "      <td>82.40</td>\n",
              "    </tr>\n",
              "    <tr>\n",
              "      <th>4</th>\n",
              "      <td>23629</td>\n",
              "      <td>BBB</td>\n",
              "      <td>2013B</td>\n",
              "      <td>16.69</td>\n",
              "    </tr>\n",
              "  </tbody>\n",
              "</table>\n",
              "</div>"
            ],
            "text/plain": [
              "   id_student code_module code_presentation  weighted_grade\n",
              "0        6516         AAA             2014J           63.50\n",
              "1        8462         DDD             2013J           34.90\n",
              "2        8462         DDD             2014J           43.00\n",
              "3       11391         AAA             2013J           82.40\n",
              "4       23629         BBB             2013B           16.69"
            ]
          },
          "metadata": {
            "tags": []
          },
          "execution_count": 10
        }
      ]
    },
    {
      "cell_type": "markdown",
      "metadata": {
        "id": "nrWzn0T4wnSM"
      },
      "source": [
        "### Obtenemos el pass_rate que indica la probabilidad de que un alumno apruebe el curso. Se calcula dividiendo la cantidad de evaluaciones aprobadas por el alumno sobre el total de evaluaciones del curso."
      ]
    },
    {
      "cell_type": "code",
      "metadata": {
        "execution": {
          "iopub.status.busy": "2021-06-19T15:57:39.601448Z",
          "iopub.execute_input": "2021-06-19T15:57:39.601674Z",
          "iopub.status.idle": "2021-06-19T15:57:39.703247Z",
          "shell.execute_reply.started": "2021-06-19T15:57:39.601651Z",
          "shell.execute_reply": "2021-06-19T15:57:39.702397Z"
        },
        "trusted": true,
        "id": "ZaHIy9nX5ayd",
        "colab": {
          "base_uri": "https://localhost:8080/",
          "height": 363
        },
        "outputId": "65841079-f489-4d77-a1cb-49ccf2555217"
      },
      "source": [
        "pass_rate = pd.merge(\n",
        "    (stud_ass[stud_ass[\"pass\"]==True].groupby([\"id_student\",\"code_module\",\"code_presentation\"]).count()[\"pass\"]).reset_index(),\n",
        "    amounts_others, \n",
        "    how=\"left\",\n",
        "    on=[\"code_module\",\"code_presentation\"]\n",
        "    )\n",
        "\n",
        "pass_rate.head(10)"
      ],
      "execution_count": 11,
      "outputs": [
        {
          "output_type": "execute_result",
          "data": {
            "text/html": [
              "<div>\n",
              "<style scoped>\n",
              "    .dataframe tbody tr th:only-of-type {\n",
              "        vertical-align: middle;\n",
              "    }\n",
              "\n",
              "    .dataframe tbody tr th {\n",
              "        vertical-align: top;\n",
              "    }\n",
              "\n",
              "    .dataframe thead th {\n",
              "        text-align: right;\n",
              "    }\n",
              "</style>\n",
              "<table border=\"1\" class=\"dataframe\">\n",
              "  <thead>\n",
              "    <tr style=\"text-align: right;\">\n",
              "      <th></th>\n",
              "      <th>id_student</th>\n",
              "      <th>code_module</th>\n",
              "      <th>code_presentation</th>\n",
              "      <th>pass</th>\n",
              "      <th>id_assessment</th>\n",
              "    </tr>\n",
              "  </thead>\n",
              "  <tbody>\n",
              "    <tr>\n",
              "      <th>0</th>\n",
              "      <td>6516</td>\n",
              "      <td>AAA</td>\n",
              "      <td>2014J</td>\n",
              "      <td>5</td>\n",
              "      <td>5</td>\n",
              "    </tr>\n",
              "    <tr>\n",
              "      <th>1</th>\n",
              "      <td>8462</td>\n",
              "      <td>DDD</td>\n",
              "      <td>2013J</td>\n",
              "      <td>3</td>\n",
              "      <td>6</td>\n",
              "    </tr>\n",
              "    <tr>\n",
              "      <th>2</th>\n",
              "      <td>8462</td>\n",
              "      <td>DDD</td>\n",
              "      <td>2014J</td>\n",
              "      <td>4</td>\n",
              "      <td>6</td>\n",
              "    </tr>\n",
              "    <tr>\n",
              "      <th>3</th>\n",
              "      <td>11391</td>\n",
              "      <td>AAA</td>\n",
              "      <td>2013J</td>\n",
              "      <td>5</td>\n",
              "      <td>5</td>\n",
              "    </tr>\n",
              "    <tr>\n",
              "      <th>4</th>\n",
              "      <td>23629</td>\n",
              "      <td>BBB</td>\n",
              "      <td>2013B</td>\n",
              "      <td>4</td>\n",
              "      <td>11</td>\n",
              "    </tr>\n",
              "    <tr>\n",
              "      <th>5</th>\n",
              "      <td>23698</td>\n",
              "      <td>CCC</td>\n",
              "      <td>2014J</td>\n",
              "      <td>8</td>\n",
              "      <td>8</td>\n",
              "    </tr>\n",
              "    <tr>\n",
              "      <th>6</th>\n",
              "      <td>23798</td>\n",
              "      <td>BBB</td>\n",
              "      <td>2013J</td>\n",
              "      <td>11</td>\n",
              "      <td>11</td>\n",
              "    </tr>\n",
              "    <tr>\n",
              "      <th>7</th>\n",
              "      <td>24186</td>\n",
              "      <td>GGG</td>\n",
              "      <td>2014B</td>\n",
              "      <td>8</td>\n",
              "      <td>9</td>\n",
              "    </tr>\n",
              "    <tr>\n",
              "      <th>8</th>\n",
              "      <td>24213</td>\n",
              "      <td>DDD</td>\n",
              "      <td>2014B</td>\n",
              "      <td>6</td>\n",
              "      <td>6</td>\n",
              "    </tr>\n",
              "    <tr>\n",
              "      <th>9</th>\n",
              "      <td>24391</td>\n",
              "      <td>GGG</td>\n",
              "      <td>2013J</td>\n",
              "      <td>9</td>\n",
              "      <td>9</td>\n",
              "    </tr>\n",
              "  </tbody>\n",
              "</table>\n",
              "</div>"
            ],
            "text/plain": [
              "   id_student code_module code_presentation  pass  id_assessment\n",
              "0        6516         AAA             2014J     5              5\n",
              "1        8462         DDD             2013J     3              6\n",
              "2        8462         DDD             2014J     4              6\n",
              "3       11391         AAA             2013J     5              5\n",
              "4       23629         BBB             2013B     4             11\n",
              "5       23698         CCC             2014J     8              8\n",
              "6       23798         BBB             2013J    11             11\n",
              "7       24186         GGG             2014B     8              9\n",
              "8       24213         DDD             2014B     6              6\n",
              "9       24391         GGG             2013J     9              9"
            ]
          },
          "metadata": {
            "tags": []
          },
          "execution_count": 11
        }
      ]
    },
    {
      "cell_type": "code",
      "metadata": {
        "id": "wbbHTDh3FM-O",
        "colab": {
          "base_uri": "https://localhost:8080/",
          "height": 363
        },
        "outputId": "28b26c70-1b4e-4dac-fc26-22337ae04d26"
      },
      "source": [
        "pass_rate[\"pass_rate\"] = pass_rate[\"pass\"] / pass_rate[\"id_assessment\"]\n",
        "pass_rate.drop([\"pass\",\"id_assessment\"], axis=1,inplace=True)\n",
        "pass_rate.head(10)"
      ],
      "execution_count": 12,
      "outputs": [
        {
          "output_type": "execute_result",
          "data": {
            "text/html": [
              "<div>\n",
              "<style scoped>\n",
              "    .dataframe tbody tr th:only-of-type {\n",
              "        vertical-align: middle;\n",
              "    }\n",
              "\n",
              "    .dataframe tbody tr th {\n",
              "        vertical-align: top;\n",
              "    }\n",
              "\n",
              "    .dataframe thead th {\n",
              "        text-align: right;\n",
              "    }\n",
              "</style>\n",
              "<table border=\"1\" class=\"dataframe\">\n",
              "  <thead>\n",
              "    <tr style=\"text-align: right;\">\n",
              "      <th></th>\n",
              "      <th>id_student</th>\n",
              "      <th>code_module</th>\n",
              "      <th>code_presentation</th>\n",
              "      <th>pass_rate</th>\n",
              "    </tr>\n",
              "  </thead>\n",
              "  <tbody>\n",
              "    <tr>\n",
              "      <th>0</th>\n",
              "      <td>6516</td>\n",
              "      <td>AAA</td>\n",
              "      <td>2014J</td>\n",
              "      <td>1.000000</td>\n",
              "    </tr>\n",
              "    <tr>\n",
              "      <th>1</th>\n",
              "      <td>8462</td>\n",
              "      <td>DDD</td>\n",
              "      <td>2013J</td>\n",
              "      <td>0.500000</td>\n",
              "    </tr>\n",
              "    <tr>\n",
              "      <th>2</th>\n",
              "      <td>8462</td>\n",
              "      <td>DDD</td>\n",
              "      <td>2014J</td>\n",
              "      <td>0.666667</td>\n",
              "    </tr>\n",
              "    <tr>\n",
              "      <th>3</th>\n",
              "      <td>11391</td>\n",
              "      <td>AAA</td>\n",
              "      <td>2013J</td>\n",
              "      <td>1.000000</td>\n",
              "    </tr>\n",
              "    <tr>\n",
              "      <th>4</th>\n",
              "      <td>23629</td>\n",
              "      <td>BBB</td>\n",
              "      <td>2013B</td>\n",
              "      <td>0.363636</td>\n",
              "    </tr>\n",
              "    <tr>\n",
              "      <th>5</th>\n",
              "      <td>23698</td>\n",
              "      <td>CCC</td>\n",
              "      <td>2014J</td>\n",
              "      <td>1.000000</td>\n",
              "    </tr>\n",
              "    <tr>\n",
              "      <th>6</th>\n",
              "      <td>23798</td>\n",
              "      <td>BBB</td>\n",
              "      <td>2013J</td>\n",
              "      <td>1.000000</td>\n",
              "    </tr>\n",
              "    <tr>\n",
              "      <th>7</th>\n",
              "      <td>24186</td>\n",
              "      <td>GGG</td>\n",
              "      <td>2014B</td>\n",
              "      <td>0.888889</td>\n",
              "    </tr>\n",
              "    <tr>\n",
              "      <th>8</th>\n",
              "      <td>24213</td>\n",
              "      <td>DDD</td>\n",
              "      <td>2014B</td>\n",
              "      <td>1.000000</td>\n",
              "    </tr>\n",
              "    <tr>\n",
              "      <th>9</th>\n",
              "      <td>24391</td>\n",
              "      <td>GGG</td>\n",
              "      <td>2013J</td>\n",
              "      <td>1.000000</td>\n",
              "    </tr>\n",
              "  </tbody>\n",
              "</table>\n",
              "</div>"
            ],
            "text/plain": [
              "   id_student code_module code_presentation  pass_rate\n",
              "0        6516         AAA             2014J   1.000000\n",
              "1        8462         DDD             2013J   0.500000\n",
              "2        8462         DDD             2014J   0.666667\n",
              "3       11391         AAA             2013J   1.000000\n",
              "4       23629         BBB             2013B   0.363636\n",
              "5       23698         CCC             2014J   1.000000\n",
              "6       23798         BBB             2013J   1.000000\n",
              "7       24186         GGG             2014B   0.888889\n",
              "8       24213         DDD             2014B   1.000000\n",
              "9       24391         GGG             2013J   1.000000"
            ]
          },
          "metadata": {
            "tags": []
          },
          "execution_count": 12
        }
      ]
    },
    {
      "cell_type": "markdown",
      "metadata": {
        "id": "GZRTVyKLxVEB"
      },
      "source": [
        "### Obtenemos la nota del examen final que obtuvo el alumno."
      ]
    },
    {
      "cell_type": "code",
      "metadata": {
        "execution": {
          "iopub.status.busy": "2021-06-19T15:57:39.704527Z",
          "iopub.execute_input": "2021-06-19T15:57:39.704894Z",
          "iopub.status.idle": "2021-06-19T15:57:39.729877Z",
          "shell.execute_reply.started": "2021-06-19T15:57:39.704853Z",
          "shell.execute_reply": "2021-06-19T15:57:39.728991Z"
        },
        "trusted": true,
        "id": "Gi5_qXk25aye",
        "colab": {
          "base_uri": "https://localhost:8080/",
          "height": 363
        },
        "outputId": "d43c4609-3200-4099-8544-a9e7a7d64f8e"
      },
      "source": [
        "stud_exams = pd.merge(studentAssessment, exams, how=\"inner\", on=[\"id_assessment\"])\n",
        "stud_exams[\"exam_score\"] = stud_exams[\"score\"]\n",
        "stud_exams.drop([\"id_assessment\", \"date_submitted\", \"is_banked\", \"score\",\"assessment_type\", \"date\", \"weight\"], axis=1, inplace=True)\n",
        "stud_exams.head(10)"
      ],
      "execution_count": 13,
      "outputs": [
        {
          "output_type": "execute_result",
          "data": {
            "text/html": [
              "<div>\n",
              "<style scoped>\n",
              "    .dataframe tbody tr th:only-of-type {\n",
              "        vertical-align: middle;\n",
              "    }\n",
              "\n",
              "    .dataframe tbody tr th {\n",
              "        vertical-align: top;\n",
              "    }\n",
              "\n",
              "    .dataframe thead th {\n",
              "        text-align: right;\n",
              "    }\n",
              "</style>\n",
              "<table border=\"1\" class=\"dataframe\">\n",
              "  <thead>\n",
              "    <tr style=\"text-align: right;\">\n",
              "      <th></th>\n",
              "      <th>id_student</th>\n",
              "      <th>code_module</th>\n",
              "      <th>code_presentation</th>\n",
              "      <th>exam_score</th>\n",
              "    </tr>\n",
              "  </thead>\n",
              "  <tbody>\n",
              "    <tr>\n",
              "      <th>0</th>\n",
              "      <td>558914</td>\n",
              "      <td>CCC</td>\n",
              "      <td>2014B</td>\n",
              "      <td>32.0</td>\n",
              "    </tr>\n",
              "    <tr>\n",
              "      <th>1</th>\n",
              "      <td>559706</td>\n",
              "      <td>CCC</td>\n",
              "      <td>2014B</td>\n",
              "      <td>78.0</td>\n",
              "    </tr>\n",
              "    <tr>\n",
              "      <th>2</th>\n",
              "      <td>559770</td>\n",
              "      <td>CCC</td>\n",
              "      <td>2014B</td>\n",
              "      <td>54.0</td>\n",
              "    </tr>\n",
              "    <tr>\n",
              "      <th>3</th>\n",
              "      <td>560114</td>\n",
              "      <td>CCC</td>\n",
              "      <td>2014B</td>\n",
              "      <td>64.0</td>\n",
              "    </tr>\n",
              "    <tr>\n",
              "      <th>4</th>\n",
              "      <td>560311</td>\n",
              "      <td>CCC</td>\n",
              "      <td>2014B</td>\n",
              "      <td>100.0</td>\n",
              "    </tr>\n",
              "    <tr>\n",
              "      <th>5</th>\n",
              "      <td>560494</td>\n",
              "      <td>CCC</td>\n",
              "      <td>2014B</td>\n",
              "      <td>92.0</td>\n",
              "    </tr>\n",
              "    <tr>\n",
              "      <th>6</th>\n",
              "      <td>561363</td>\n",
              "      <td>CCC</td>\n",
              "      <td>2014B</td>\n",
              "      <td>84.0</td>\n",
              "    </tr>\n",
              "    <tr>\n",
              "      <th>7</th>\n",
              "      <td>561559</td>\n",
              "      <td>CCC</td>\n",
              "      <td>2014B</td>\n",
              "      <td>42.0</td>\n",
              "    </tr>\n",
              "    <tr>\n",
              "      <th>8</th>\n",
              "      <td>561774</td>\n",
              "      <td>CCC</td>\n",
              "      <td>2014B</td>\n",
              "      <td>62.0</td>\n",
              "    </tr>\n",
              "    <tr>\n",
              "      <th>9</th>\n",
              "      <td>562450</td>\n",
              "      <td>CCC</td>\n",
              "      <td>2014B</td>\n",
              "      <td>46.0</td>\n",
              "    </tr>\n",
              "  </tbody>\n",
              "</table>\n",
              "</div>"
            ],
            "text/plain": [
              "   id_student code_module code_presentation  exam_score\n",
              "0      558914         CCC             2014B        32.0\n",
              "1      559706         CCC             2014B        78.0\n",
              "2      559770         CCC             2014B        54.0\n",
              "3      560114         CCC             2014B        64.0\n",
              "4      560311         CCC             2014B       100.0\n",
              "5      560494         CCC             2014B        92.0\n",
              "6      561363         CCC             2014B        84.0\n",
              "7      561559         CCC             2014B        42.0\n",
              "8      561774         CCC             2014B        62.0\n",
              "9      562450         CCC             2014B        46.0"
            ]
          },
          "metadata": {
            "tags": []
          },
          "execution_count": 13
        }
      ]
    },
    {
      "cell_type": "markdown",
      "metadata": {
        "id": "brutnrBD5aye"
      },
      "source": [
        "### Análisis de los datos en el VLE, el cual es la plataforma digital de la universidad."
      ]
    },
    {
      "cell_type": "code",
      "metadata": {
        "colab": {
          "base_uri": "https://localhost:8080/",
          "height": 363
        },
        "id": "q6C6qS4wxoG7",
        "outputId": "a0424b9b-538c-4d6d-9909-cac8841b7b13"
      },
      "source": [
        "vle.head(10)"
      ],
      "execution_count": 14,
      "outputs": [
        {
          "output_type": "execute_result",
          "data": {
            "text/html": [
              "<div>\n",
              "<style scoped>\n",
              "    .dataframe tbody tr th:only-of-type {\n",
              "        vertical-align: middle;\n",
              "    }\n",
              "\n",
              "    .dataframe tbody tr th {\n",
              "        vertical-align: top;\n",
              "    }\n",
              "\n",
              "    .dataframe thead th {\n",
              "        text-align: right;\n",
              "    }\n",
              "</style>\n",
              "<table border=\"1\" class=\"dataframe\">\n",
              "  <thead>\n",
              "    <tr style=\"text-align: right;\">\n",
              "      <th></th>\n",
              "      <th>id_site</th>\n",
              "      <th>code_module</th>\n",
              "      <th>code_presentation</th>\n",
              "      <th>activity_type</th>\n",
              "      <th>week_from</th>\n",
              "      <th>week_to</th>\n",
              "    </tr>\n",
              "  </thead>\n",
              "  <tbody>\n",
              "    <tr>\n",
              "      <th>0</th>\n",
              "      <td>546943</td>\n",
              "      <td>AAA</td>\n",
              "      <td>2013J</td>\n",
              "      <td>resource</td>\n",
              "      <td>NaN</td>\n",
              "      <td>NaN</td>\n",
              "    </tr>\n",
              "    <tr>\n",
              "      <th>1</th>\n",
              "      <td>546712</td>\n",
              "      <td>AAA</td>\n",
              "      <td>2013J</td>\n",
              "      <td>oucontent</td>\n",
              "      <td>NaN</td>\n",
              "      <td>NaN</td>\n",
              "    </tr>\n",
              "    <tr>\n",
              "      <th>2</th>\n",
              "      <td>546998</td>\n",
              "      <td>AAA</td>\n",
              "      <td>2013J</td>\n",
              "      <td>resource</td>\n",
              "      <td>NaN</td>\n",
              "      <td>NaN</td>\n",
              "    </tr>\n",
              "    <tr>\n",
              "      <th>3</th>\n",
              "      <td>546888</td>\n",
              "      <td>AAA</td>\n",
              "      <td>2013J</td>\n",
              "      <td>url</td>\n",
              "      <td>NaN</td>\n",
              "      <td>NaN</td>\n",
              "    </tr>\n",
              "    <tr>\n",
              "      <th>4</th>\n",
              "      <td>547035</td>\n",
              "      <td>AAA</td>\n",
              "      <td>2013J</td>\n",
              "      <td>resource</td>\n",
              "      <td>NaN</td>\n",
              "      <td>NaN</td>\n",
              "    </tr>\n",
              "    <tr>\n",
              "      <th>5</th>\n",
              "      <td>546614</td>\n",
              "      <td>AAA</td>\n",
              "      <td>2013J</td>\n",
              "      <td>homepage</td>\n",
              "      <td>NaN</td>\n",
              "      <td>NaN</td>\n",
              "    </tr>\n",
              "    <tr>\n",
              "      <th>6</th>\n",
              "      <td>546897</td>\n",
              "      <td>AAA</td>\n",
              "      <td>2013J</td>\n",
              "      <td>url</td>\n",
              "      <td>NaN</td>\n",
              "      <td>NaN</td>\n",
              "    </tr>\n",
              "    <tr>\n",
              "      <th>7</th>\n",
              "      <td>546678</td>\n",
              "      <td>AAA</td>\n",
              "      <td>2013J</td>\n",
              "      <td>oucontent</td>\n",
              "      <td>NaN</td>\n",
              "      <td>NaN</td>\n",
              "    </tr>\n",
              "    <tr>\n",
              "      <th>8</th>\n",
              "      <td>546933</td>\n",
              "      <td>AAA</td>\n",
              "      <td>2013J</td>\n",
              "      <td>resource</td>\n",
              "      <td>NaN</td>\n",
              "      <td>NaN</td>\n",
              "    </tr>\n",
              "    <tr>\n",
              "      <th>9</th>\n",
              "      <td>546708</td>\n",
              "      <td>AAA</td>\n",
              "      <td>2013J</td>\n",
              "      <td>oucontent</td>\n",
              "      <td>NaN</td>\n",
              "      <td>NaN</td>\n",
              "    </tr>\n",
              "  </tbody>\n",
              "</table>\n",
              "</div>"
            ],
            "text/plain": [
              "   id_site code_module code_presentation activity_type  week_from  week_to\n",
              "0   546943         AAA             2013J      resource        NaN      NaN\n",
              "1   546712         AAA             2013J     oucontent        NaN      NaN\n",
              "2   546998         AAA             2013J      resource        NaN      NaN\n",
              "3   546888         AAA             2013J           url        NaN      NaN\n",
              "4   547035         AAA             2013J      resource        NaN      NaN\n",
              "5   546614         AAA             2013J      homepage        NaN      NaN\n",
              "6   546897         AAA             2013J           url        NaN      NaN\n",
              "7   546678         AAA             2013J     oucontent        NaN      NaN\n",
              "8   546933         AAA             2013J      resource        NaN      NaN\n",
              "9   546708         AAA             2013J     oucontent        NaN      NaN"
            ]
          },
          "metadata": {
            "tags": []
          },
          "execution_count": 14
        }
      ]
    },
    {
      "cell_type": "code",
      "metadata": {
        "execution": {
          "iopub.status.busy": "2021-06-19T15:57:39.777998Z",
          "iopub.execute_input": "2021-06-19T15:57:39.778396Z",
          "iopub.status.idle": "2021-06-19T15:57:39.795205Z",
          "shell.execute_reply.started": "2021-06-19T15:57:39.77834Z",
          "shell.execute_reply": "2021-06-19T15:57:39.794176Z"
        },
        "trusted": true,
        "id": "rf00H3WS5ayf",
        "colab": {
          "base_uri": "https://localhost:8080/",
          "height": 363
        },
        "outputId": "afebd821-65d8-409a-a473-310f004ba856"
      },
      "source": [
        "studentVle.head(10)"
      ],
      "execution_count": 15,
      "outputs": [
        {
          "output_type": "execute_result",
          "data": {
            "text/html": [
              "<div>\n",
              "<style scoped>\n",
              "    .dataframe tbody tr th:only-of-type {\n",
              "        vertical-align: middle;\n",
              "    }\n",
              "\n",
              "    .dataframe tbody tr th {\n",
              "        vertical-align: top;\n",
              "    }\n",
              "\n",
              "    .dataframe thead th {\n",
              "        text-align: right;\n",
              "    }\n",
              "</style>\n",
              "<table border=\"1\" class=\"dataframe\">\n",
              "  <thead>\n",
              "    <tr style=\"text-align: right;\">\n",
              "      <th></th>\n",
              "      <th>code_module</th>\n",
              "      <th>code_presentation</th>\n",
              "      <th>id_student</th>\n",
              "      <th>id_site</th>\n",
              "      <th>date</th>\n",
              "      <th>sum_click</th>\n",
              "    </tr>\n",
              "  </thead>\n",
              "  <tbody>\n",
              "    <tr>\n",
              "      <th>0</th>\n",
              "      <td>AAA</td>\n",
              "      <td>2013J</td>\n",
              "      <td>28400</td>\n",
              "      <td>546652</td>\n",
              "      <td>-10</td>\n",
              "      <td>4</td>\n",
              "    </tr>\n",
              "    <tr>\n",
              "      <th>1</th>\n",
              "      <td>AAA</td>\n",
              "      <td>2013J</td>\n",
              "      <td>28400</td>\n",
              "      <td>546652</td>\n",
              "      <td>-10</td>\n",
              "      <td>1</td>\n",
              "    </tr>\n",
              "    <tr>\n",
              "      <th>2</th>\n",
              "      <td>AAA</td>\n",
              "      <td>2013J</td>\n",
              "      <td>28400</td>\n",
              "      <td>546652</td>\n",
              "      <td>-10</td>\n",
              "      <td>1</td>\n",
              "    </tr>\n",
              "    <tr>\n",
              "      <th>3</th>\n",
              "      <td>AAA</td>\n",
              "      <td>2013J</td>\n",
              "      <td>28400</td>\n",
              "      <td>546614</td>\n",
              "      <td>-10</td>\n",
              "      <td>11</td>\n",
              "    </tr>\n",
              "    <tr>\n",
              "      <th>4</th>\n",
              "      <td>AAA</td>\n",
              "      <td>2013J</td>\n",
              "      <td>28400</td>\n",
              "      <td>546714</td>\n",
              "      <td>-10</td>\n",
              "      <td>1</td>\n",
              "    </tr>\n",
              "    <tr>\n",
              "      <th>5</th>\n",
              "      <td>AAA</td>\n",
              "      <td>2013J</td>\n",
              "      <td>28400</td>\n",
              "      <td>546652</td>\n",
              "      <td>-10</td>\n",
              "      <td>8</td>\n",
              "    </tr>\n",
              "    <tr>\n",
              "      <th>6</th>\n",
              "      <td>AAA</td>\n",
              "      <td>2013J</td>\n",
              "      <td>28400</td>\n",
              "      <td>546876</td>\n",
              "      <td>-10</td>\n",
              "      <td>2</td>\n",
              "    </tr>\n",
              "    <tr>\n",
              "      <th>7</th>\n",
              "      <td>AAA</td>\n",
              "      <td>2013J</td>\n",
              "      <td>28400</td>\n",
              "      <td>546688</td>\n",
              "      <td>-10</td>\n",
              "      <td>15</td>\n",
              "    </tr>\n",
              "    <tr>\n",
              "      <th>8</th>\n",
              "      <td>AAA</td>\n",
              "      <td>2013J</td>\n",
              "      <td>28400</td>\n",
              "      <td>546662</td>\n",
              "      <td>-10</td>\n",
              "      <td>17</td>\n",
              "    </tr>\n",
              "    <tr>\n",
              "      <th>9</th>\n",
              "      <td>AAA</td>\n",
              "      <td>2013J</td>\n",
              "      <td>28400</td>\n",
              "      <td>546890</td>\n",
              "      <td>-10</td>\n",
              "      <td>1</td>\n",
              "    </tr>\n",
              "  </tbody>\n",
              "</table>\n",
              "</div>"
            ],
            "text/plain": [
              "  code_module code_presentation  id_student  id_site  date  sum_click\n",
              "0         AAA             2013J       28400   546652   -10          4\n",
              "1         AAA             2013J       28400   546652   -10          1\n",
              "2         AAA             2013J       28400   546652   -10          1\n",
              "3         AAA             2013J       28400   546614   -10         11\n",
              "4         AAA             2013J       28400   546714   -10          1\n",
              "5         AAA             2013J       28400   546652   -10          8\n",
              "6         AAA             2013J       28400   546876   -10          2\n",
              "7         AAA             2013J       28400   546688   -10         15\n",
              "8         AAA             2013J       28400   546662   -10         17\n",
              "9         AAA             2013J       28400   546890   -10          1"
            ]
          },
          "metadata": {
            "tags": []
          },
          "execution_count": 15
        }
      ]
    },
    {
      "cell_type": "markdown",
      "metadata": {
        "id": "Rggn2Vw04WVV"
      },
      "source": [
        "Se agrupa la tabla \"studentVle\" por estudiante y el id_site de cada material de la presentación de un curso. De esta forma, obtenemos el tiempo promedio, después del inicio del curso, que al estudiante le tomó para usar los materiales y la cantidad promedio de clics por material. "
      ]
    },
    {
      "cell_type": "code",
      "metadata": {
        "execution": {
          "iopub.status.busy": "2021-06-19T15:57:40.08851Z",
          "iopub.execute_input": "2021-06-19T15:57:40.088825Z",
          "iopub.status.idle": "2021-06-19T15:57:43.650562Z",
          "shell.execute_reply.started": "2021-06-19T15:57:40.0888Z",
          "shell.execute_reply": "2021-06-19T15:57:43.649518Z"
        },
        "trusted": true,
        "id": "Bs-WSlPT5ayg",
        "colab": {
          "base_uri": "https://localhost:8080/",
          "height": 206
        },
        "outputId": "eb80cad8-3c77-44e4-d7e9-8cd08f2ed23a"
      },
      "source": [
        "avg_per_site = studentVle.groupby([\"id_student\", \"id_site\", \"code_module\", \"code_presentation\"]).mean().reset_index()\n",
        "avg_per_site.head()"
      ],
      "execution_count": 16,
      "outputs": [
        {
          "output_type": "execute_result",
          "data": {
            "text/html": [
              "<div>\n",
              "<style scoped>\n",
              "    .dataframe tbody tr th:only-of-type {\n",
              "        vertical-align: middle;\n",
              "    }\n",
              "\n",
              "    .dataframe tbody tr th {\n",
              "        vertical-align: top;\n",
              "    }\n",
              "\n",
              "    .dataframe thead th {\n",
              "        text-align: right;\n",
              "    }\n",
              "</style>\n",
              "<table border=\"1\" class=\"dataframe\">\n",
              "  <thead>\n",
              "    <tr style=\"text-align: right;\">\n",
              "      <th></th>\n",
              "      <th>id_student</th>\n",
              "      <th>id_site</th>\n",
              "      <th>code_module</th>\n",
              "      <th>code_presentation</th>\n",
              "      <th>date</th>\n",
              "      <th>sum_click</th>\n",
              "    </tr>\n",
              "  </thead>\n",
              "  <tbody>\n",
              "    <tr>\n",
              "      <th>0</th>\n",
              "      <td>6516</td>\n",
              "      <td>877011</td>\n",
              "      <td>AAA</td>\n",
              "      <td>2014J</td>\n",
              "      <td>210.333333</td>\n",
              "      <td>3.833333</td>\n",
              "    </tr>\n",
              "    <tr>\n",
              "      <th>1</th>\n",
              "      <td>6516</td>\n",
              "      <td>877012</td>\n",
              "      <td>AAA</td>\n",
              "      <td>2014J</td>\n",
              "      <td>90.833333</td>\n",
              "      <td>2.310606</td>\n",
              "    </tr>\n",
              "    <tr>\n",
              "      <th>2</th>\n",
              "      <td>6516</td>\n",
              "      <td>877015</td>\n",
              "      <td>AAA</td>\n",
              "      <td>2014J</td>\n",
              "      <td>113.461538</td>\n",
              "      <td>2.000000</td>\n",
              "    </tr>\n",
              "    <tr>\n",
              "      <th>3</th>\n",
              "      <td>6516</td>\n",
              "      <td>877023</td>\n",
              "      <td>AAA</td>\n",
              "      <td>2014J</td>\n",
              "      <td>122.666667</td>\n",
              "      <td>2.000000</td>\n",
              "    </tr>\n",
              "    <tr>\n",
              "      <th>4</th>\n",
              "      <td>6516</td>\n",
              "      <td>877025</td>\n",
              "      <td>AAA</td>\n",
              "      <td>2014J</td>\n",
              "      <td>41.142857</td>\n",
              "      <td>4.333333</td>\n",
              "    </tr>\n",
              "  </tbody>\n",
              "</table>\n",
              "</div>"
            ],
            "text/plain": [
              "   id_student  id_site code_module code_presentation        date  sum_click\n",
              "0        6516   877011         AAA             2014J  210.333333   3.833333\n",
              "1        6516   877012         AAA             2014J   90.833333   2.310606\n",
              "2        6516   877015         AAA             2014J  113.461538   2.000000\n",
              "3        6516   877023         AAA             2014J  122.666667   2.000000\n",
              "4        6516   877025         AAA             2014J   41.142857   4.333333"
            ]
          },
          "metadata": {
            "tags": []
          },
          "execution_count": 16
        }
      ]
    },
    {
      "cell_type": "markdown",
      "metadata": {
        "id": "inN1cHO94UQB"
      },
      "source": [
        "Ahora agrupamos de nuevo, para obtener un promedio de los datos explicados anteriormente para todas los materiales que pertenecen a la presentación de un curso."
      ]
    },
    {
      "cell_type": "code",
      "metadata": {
        "execution": {
          "iopub.status.busy": "2021-06-19T15:57:43.652025Z",
          "iopub.execute_input": "2021-06-19T15:57:43.652279Z",
          "iopub.status.idle": "2021-06-19T15:57:44.130866Z",
          "shell.execute_reply.started": "2021-06-19T15:57:43.652256Z",
          "shell.execute_reply": "2021-06-19T15:57:44.1299Z"
        },
        "trusted": true,
        "id": "jpFbDWtz5ayh",
        "colab": {
          "base_uri": "https://localhost:8080/",
          "height": 206
        },
        "outputId": "68f17a4e-b1f0-4e96-e41d-982e37ef66c4"
      },
      "source": [
        "avg_per_student = avg_per_site.groupby([\"id_student\", \"code_module\", \"code_presentation\"]).mean()[[\"date\", \"sum_click\"]].reset_index()\n",
        "avg_per_student.head()"
      ],
      "execution_count": 17,
      "outputs": [
        {
          "output_type": "execute_result",
          "data": {
            "text/html": [
              "<div>\n",
              "<style scoped>\n",
              "    .dataframe tbody tr th:only-of-type {\n",
              "        vertical-align: middle;\n",
              "    }\n",
              "\n",
              "    .dataframe tbody tr th {\n",
              "        vertical-align: top;\n",
              "    }\n",
              "\n",
              "    .dataframe thead th {\n",
              "        text-align: right;\n",
              "    }\n",
              "</style>\n",
              "<table border=\"1\" class=\"dataframe\">\n",
              "  <thead>\n",
              "    <tr style=\"text-align: right;\">\n",
              "      <th></th>\n",
              "      <th>id_student</th>\n",
              "      <th>code_module</th>\n",
              "      <th>code_presentation</th>\n",
              "      <th>date</th>\n",
              "      <th>sum_click</th>\n",
              "    </tr>\n",
              "  </thead>\n",
              "  <tbody>\n",
              "    <tr>\n",
              "      <th>0</th>\n",
              "      <td>6516</td>\n",
              "      <td>AAA</td>\n",
              "      <td>2014J</td>\n",
              "      <td>105.292573</td>\n",
              "      <td>5.816135</td>\n",
              "    </tr>\n",
              "    <tr>\n",
              "      <th>1</th>\n",
              "      <td>8462</td>\n",
              "      <td>DDD</td>\n",
              "      <td>2013J</td>\n",
              "      <td>38.794704</td>\n",
              "      <td>1.734524</td>\n",
              "    </tr>\n",
              "    <tr>\n",
              "      <th>2</th>\n",
              "      <td>8462</td>\n",
              "      <td>DDD</td>\n",
              "      <td>2014J</td>\n",
              "      <td>10.000000</td>\n",
              "      <td>3.000000</td>\n",
              "    </tr>\n",
              "    <tr>\n",
              "      <th>3</th>\n",
              "      <td>11391</td>\n",
              "      <td>AAA</td>\n",
              "      <td>2013J</td>\n",
              "      <td>111.739069</td>\n",
              "      <td>4.231515</td>\n",
              "    </tr>\n",
              "    <tr>\n",
              "      <th>4</th>\n",
              "      <td>23629</td>\n",
              "      <td>BBB</td>\n",
              "      <td>2013B</td>\n",
              "      <td>33.409632</td>\n",
              "      <td>2.817316</td>\n",
              "    </tr>\n",
              "  </tbody>\n",
              "</table>\n",
              "</div>"
            ],
            "text/plain": [
              "   id_student code_module code_presentation        date  sum_click\n",
              "0        6516         AAA             2014J  105.292573   5.816135\n",
              "1        8462         DDD             2013J   38.794704   1.734524\n",
              "2        8462         DDD             2014J   10.000000   3.000000\n",
              "3       11391         AAA             2013J  111.739069   4.231515\n",
              "4       23629         BBB             2013B   33.409632   2.817316"
            ]
          },
          "metadata": {
            "tags": []
          },
          "execution_count": 17
        }
      ]
    },
    {
      "cell_type": "markdown",
      "metadata": {
        "id": "8rKbMDmv5ayi"
      },
      "source": [
        "### Analizamos de la tabla studentInfo.csv"
      ]
    },
    {
      "cell_type": "markdown",
      "metadata": {
        "id": "Oe6gHHtg0VUi"
      },
      "source": [
        "Removemos los alumnos que se retiraron de los cursos, luego solo utilizamos las columnas que se utilizarán para juntarlos con los demás columnas de interés."
      ]
    },
    {
      "cell_type": "code",
      "metadata": {
        "execution": {
          "iopub.status.busy": "2021-06-19T15:57:46.125831Z",
          "iopub.execute_input": "2021-06-19T15:57:46.126146Z",
          "iopub.status.idle": "2021-06-19T15:57:46.144347Z",
          "shell.execute_reply.started": "2021-06-19T15:57:46.126118Z",
          "shell.execute_reply": "2021-06-19T15:57:46.143224Z"
        },
        "trusted": true,
        "id": "tJvjhSwz5ayi",
        "colab": {
          "base_uri": "https://localhost:8080/",
          "height": 363
        },
        "outputId": "a14b66e0-12a1-4b05-8a68-000bff76fd8e"
      },
      "source": [
        "studentInfo = studentInfo[studentInfo[\"final_result\"] != \"Withdrawn\"]\n",
        "studentInfo = studentInfo[[\"code_module\", \"code_presentation\", \"id_student\", \"num_of_prev_attempts\"]]\n",
        "\n",
        "studentInfo.head(10)"
      ],
      "execution_count": 18,
      "outputs": [
        {
          "output_type": "execute_result",
          "data": {
            "text/html": [
              "<div>\n",
              "<style scoped>\n",
              "    .dataframe tbody tr th:only-of-type {\n",
              "        vertical-align: middle;\n",
              "    }\n",
              "\n",
              "    .dataframe tbody tr th {\n",
              "        vertical-align: top;\n",
              "    }\n",
              "\n",
              "    .dataframe thead th {\n",
              "        text-align: right;\n",
              "    }\n",
              "</style>\n",
              "<table border=\"1\" class=\"dataframe\">\n",
              "  <thead>\n",
              "    <tr style=\"text-align: right;\">\n",
              "      <th></th>\n",
              "      <th>code_module</th>\n",
              "      <th>code_presentation</th>\n",
              "      <th>id_student</th>\n",
              "      <th>num_of_prev_attempts</th>\n",
              "    </tr>\n",
              "  </thead>\n",
              "  <tbody>\n",
              "    <tr>\n",
              "      <th>0</th>\n",
              "      <td>AAA</td>\n",
              "      <td>2013J</td>\n",
              "      <td>11391</td>\n",
              "      <td>0</td>\n",
              "    </tr>\n",
              "    <tr>\n",
              "      <th>1</th>\n",
              "      <td>AAA</td>\n",
              "      <td>2013J</td>\n",
              "      <td>28400</td>\n",
              "      <td>0</td>\n",
              "    </tr>\n",
              "    <tr>\n",
              "      <th>3</th>\n",
              "      <td>AAA</td>\n",
              "      <td>2013J</td>\n",
              "      <td>31604</td>\n",
              "      <td>0</td>\n",
              "    </tr>\n",
              "    <tr>\n",
              "      <th>4</th>\n",
              "      <td>AAA</td>\n",
              "      <td>2013J</td>\n",
              "      <td>32885</td>\n",
              "      <td>0</td>\n",
              "    </tr>\n",
              "    <tr>\n",
              "      <th>5</th>\n",
              "      <td>AAA</td>\n",
              "      <td>2013J</td>\n",
              "      <td>38053</td>\n",
              "      <td>0</td>\n",
              "    </tr>\n",
              "    <tr>\n",
              "      <th>6</th>\n",
              "      <td>AAA</td>\n",
              "      <td>2013J</td>\n",
              "      <td>45462</td>\n",
              "      <td>0</td>\n",
              "    </tr>\n",
              "    <tr>\n",
              "      <th>7</th>\n",
              "      <td>AAA</td>\n",
              "      <td>2013J</td>\n",
              "      <td>45642</td>\n",
              "      <td>0</td>\n",
              "    </tr>\n",
              "    <tr>\n",
              "      <th>8</th>\n",
              "      <td>AAA</td>\n",
              "      <td>2013J</td>\n",
              "      <td>52130</td>\n",
              "      <td>0</td>\n",
              "    </tr>\n",
              "    <tr>\n",
              "      <th>9</th>\n",
              "      <td>AAA</td>\n",
              "      <td>2013J</td>\n",
              "      <td>53025</td>\n",
              "      <td>0</td>\n",
              "    </tr>\n",
              "    <tr>\n",
              "      <th>10</th>\n",
              "      <td>AAA</td>\n",
              "      <td>2013J</td>\n",
              "      <td>57506</td>\n",
              "      <td>0</td>\n",
              "    </tr>\n",
              "  </tbody>\n",
              "</table>\n",
              "</div>"
            ],
            "text/plain": [
              "   code_module code_presentation  id_student  num_of_prev_attempts\n",
              "0          AAA             2013J       11391                     0\n",
              "1          AAA             2013J       28400                     0\n",
              "3          AAA             2013J       31604                     0\n",
              "4          AAA             2013J       32885                     0\n",
              "5          AAA             2013J       38053                     0\n",
              "6          AAA             2013J       45462                     0\n",
              "7          AAA             2013J       45642                     0\n",
              "8          AAA             2013J       52130                     0\n",
              "9          AAA             2013J       53025                     0\n",
              "10         AAA             2013J       57506                     0"
            ]
          },
          "metadata": {
            "tags": []
          },
          "execution_count": 18
        }
      ]
    },
    {
      "cell_type": "markdown",
      "metadata": {
        "id": "uyJtgtER5ayi"
      },
      "source": [
        "### Generando el dataset final."
      ]
    },
    {
      "cell_type": "markdown",
      "metadata": {
        "id": "6DL5ZRp02ebq"
      },
      "source": [
        "Juntamos las tablas generadas: \"avg_grade_per_student\" y \"pass_rate\" y \"stud_exams\". Lo jutamos por las siguientes columnas: \"id_student\", \"code_module\", \"code_presentation\""
      ]
    },
    {
      "cell_type": "code",
      "metadata": {
        "execution": {
          "iopub.status.busy": "2021-06-19T15:57:48.120073Z",
          "iopub.execute_input": "2021-06-19T15:57:48.120458Z",
          "iopub.status.idle": "2021-06-19T15:57:48.158786Z",
          "shell.execute_reply.started": "2021-06-19T15:57:48.120422Z",
          "shell.execute_reply": "2021-06-19T15:57:48.157872Z"
        },
        "trusted": true,
        "id": "ScMSFK8H5ayi",
        "colab": {
          "base_uri": "https://localhost:8080/",
          "height": 206
        },
        "outputId": "3da34d85-a99f-4144-d362-4ea869c71a49"
      },
      "source": [
        "df_1 = pd.merge(avg_grade_per_student, pass_rate, how=\"inner\", on=[\"id_student\", \"code_module\", \"code_presentation\"])\n",
        "assessment_info=pd.merge(df_1, stud_exams, how=\"inner\", on=[\"id_student\", \"code_module\", \"code_presentation\"])\n",
        "\n",
        "assessment_info.head()"
      ],
      "execution_count": 19,
      "outputs": [
        {
          "output_type": "execute_result",
          "data": {
            "text/html": [
              "<div>\n",
              "<style scoped>\n",
              "    .dataframe tbody tr th:only-of-type {\n",
              "        vertical-align: middle;\n",
              "    }\n",
              "\n",
              "    .dataframe tbody tr th {\n",
              "        vertical-align: top;\n",
              "    }\n",
              "\n",
              "    .dataframe thead th {\n",
              "        text-align: right;\n",
              "    }\n",
              "</style>\n",
              "<table border=\"1\" class=\"dataframe\">\n",
              "  <thead>\n",
              "    <tr style=\"text-align: right;\">\n",
              "      <th></th>\n",
              "      <th>id_student</th>\n",
              "      <th>code_module</th>\n",
              "      <th>code_presentation</th>\n",
              "      <th>weighted_grade</th>\n",
              "      <th>pass_rate</th>\n",
              "      <th>exam_score</th>\n",
              "    </tr>\n",
              "  </thead>\n",
              "  <tbody>\n",
              "    <tr>\n",
              "      <th>0</th>\n",
              "      <td>23698</td>\n",
              "      <td>CCC</td>\n",
              "      <td>2014J</td>\n",
              "      <td>69.97</td>\n",
              "      <td>1.000000</td>\n",
              "      <td>80.0</td>\n",
              "    </tr>\n",
              "    <tr>\n",
              "      <th>1</th>\n",
              "      <td>24213</td>\n",
              "      <td>DDD</td>\n",
              "      <td>2014B</td>\n",
              "      <td>78.40</td>\n",
              "      <td>1.000000</td>\n",
              "      <td>58.0</td>\n",
              "    </tr>\n",
              "    <tr>\n",
              "      <th>2</th>\n",
              "      <td>27116</td>\n",
              "      <td>CCC</td>\n",
              "      <td>2014J</td>\n",
              "      <td>92.02</td>\n",
              "      <td>1.000000</td>\n",
              "      <td>96.0</td>\n",
              "    </tr>\n",
              "    <tr>\n",
              "      <th>3</th>\n",
              "      <td>28046</td>\n",
              "      <td>DDD</td>\n",
              "      <td>2013J</td>\n",
              "      <td>49.90</td>\n",
              "      <td>0.833333</td>\n",
              "      <td>40.0</td>\n",
              "    </tr>\n",
              "    <tr>\n",
              "      <th>4</th>\n",
              "      <td>28787</td>\n",
              "      <td>CCC</td>\n",
              "      <td>2014J</td>\n",
              "      <td>11.98</td>\n",
              "      <td>0.375000</td>\n",
              "      <td>44.0</td>\n",
              "    </tr>\n",
              "  </tbody>\n",
              "</table>\n",
              "</div>"
            ],
            "text/plain": [
              "   id_student code_module  ... pass_rate  exam_score\n",
              "0       23698         CCC  ...  1.000000        80.0\n",
              "1       24213         DDD  ...  1.000000        58.0\n",
              "2       27116         CCC  ...  1.000000        96.0\n",
              "3       28046         DDD  ...  0.833333        40.0\n",
              "4       28787         CCC  ...  0.375000        44.0\n",
              "\n",
              "[5 rows x 6 columns]"
            ]
          },
          "metadata": {
            "tags": []
          },
          "execution_count": 19
        }
      ]
    },
    {
      "cell_type": "markdown",
      "metadata": {
        "id": "x0zu8GIV3tO-"
      },
      "source": [
        "Juntamos las tablas generadas: \"studentInfo\" y \"assessment_info\" y \"avg_per_student\". Lo jutamos por las siguientes columnas: \"id_student\", \"code_module\", \"code_presentation\""
      ]
    },
    {
      "cell_type": "code",
      "metadata": {
        "execution": {
          "iopub.status.busy": "2021-06-19T15:57:50.200938Z",
          "iopub.execute_input": "2021-06-19T15:57:50.201273Z",
          "iopub.status.idle": "2021-06-19T15:57:50.237353Z",
          "shell.execute_reply.started": "2021-06-19T15:57:50.201241Z",
          "shell.execute_reply": "2021-06-19T15:57:50.236571Z"
        },
        "trusted": true,
        "id": "ea5GPyLs5ayj",
        "colab": {
          "base_uri": "https://localhost:8080/",
          "height": 206
        },
        "outputId": "88c0e29e-0178-43bd-9eb7-466715e37c14"
      },
      "source": [
        "df_2=pd.merge(studentInfo, assessment_info, how=\"inner\", on=[\"id_student\", \"code_module\", \"code_presentation\"])\n",
        "\n",
        "final_df=pd.merge(df_2, avg_per_student, how=\"inner\", on=[\"id_student\", \"code_module\", \"code_presentation\"])\n",
        "final_df.drop([\"id_student\", \"code_module\",\"code_presentation\"],axis=1,inplace=True)\n",
        "final_df.head()"
      ],
      "execution_count": 20,
      "outputs": [
        {
          "output_type": "execute_result",
          "data": {
            "text/html": [
              "<div>\n",
              "<style scoped>\n",
              "    .dataframe tbody tr th:only-of-type {\n",
              "        vertical-align: middle;\n",
              "    }\n",
              "\n",
              "    .dataframe tbody tr th {\n",
              "        vertical-align: top;\n",
              "    }\n",
              "\n",
              "    .dataframe thead th {\n",
              "        text-align: right;\n",
              "    }\n",
              "</style>\n",
              "<table border=\"1\" class=\"dataframe\">\n",
              "  <thead>\n",
              "    <tr style=\"text-align: right;\">\n",
              "      <th></th>\n",
              "      <th>num_of_prev_attempts</th>\n",
              "      <th>weighted_grade</th>\n",
              "      <th>pass_rate</th>\n",
              "      <th>exam_score</th>\n",
              "      <th>date</th>\n",
              "      <th>sum_click</th>\n",
              "    </tr>\n",
              "  </thead>\n",
              "  <tbody>\n",
              "    <tr>\n",
              "      <th>0</th>\n",
              "      <td>0</td>\n",
              "      <td>89.65</td>\n",
              "      <td>1.000</td>\n",
              "      <td>94.0</td>\n",
              "      <td>103.457907</td>\n",
              "      <td>2.706754</td>\n",
              "    </tr>\n",
              "    <tr>\n",
              "      <th>1</th>\n",
              "      <td>0</td>\n",
              "      <td>84.58</td>\n",
              "      <td>1.000</td>\n",
              "      <td>76.0</td>\n",
              "      <td>87.617265</td>\n",
              "      <td>1.539047</td>\n",
              "    </tr>\n",
              "    <tr>\n",
              "      <th>2</th>\n",
              "      <td>0</td>\n",
              "      <td>51.44</td>\n",
              "      <td>0.625</td>\n",
              "      <td>66.0</td>\n",
              "      <td>49.181286</td>\n",
              "      <td>1.562619</td>\n",
              "    </tr>\n",
              "    <tr>\n",
              "      <th>3</th>\n",
              "      <td>0</td>\n",
              "      <td>75.13</td>\n",
              "      <td>1.000</td>\n",
              "      <td>50.0</td>\n",
              "      <td>118.698642</td>\n",
              "      <td>2.189217</td>\n",
              "    </tr>\n",
              "    <tr>\n",
              "      <th>4</th>\n",
              "      <td>0</td>\n",
              "      <td>93.22</td>\n",
              "      <td>1.000</td>\n",
              "      <td>98.0</td>\n",
              "      <td>75.791987</td>\n",
              "      <td>2.100617</td>\n",
              "    </tr>\n",
              "  </tbody>\n",
              "</table>\n",
              "</div>"
            ],
            "text/plain": [
              "   num_of_prev_attempts  weighted_grade  ...        date  sum_click\n",
              "0                     0           89.65  ...  103.457907   2.706754\n",
              "1                     0           84.58  ...   87.617265   1.539047\n",
              "2                     0           51.44  ...   49.181286   1.562619\n",
              "3                     0           75.13  ...  118.698642   2.189217\n",
              "4                     0           93.22  ...   75.791987   2.100617\n",
              "\n",
              "[5 rows x 6 columns]"
            ]
          },
          "metadata": {
            "tags": []
          },
          "execution_count": 20
        }
      ]
    },
    {
      "cell_type": "markdown",
      "metadata": {
        "id": "AqnUa0LF30an"
      },
      "source": [
        "Se quitan algunos datos que son outliers para mantener la consistencia del dataset."
      ]
    },
    {
      "cell_type": "code",
      "metadata": {
        "execution": {
          "iopub.status.busy": "2021-06-18T23:43:43.662458Z",
          "iopub.execute_input": "2021-06-18T23:43:43.662743Z",
          "iopub.status.idle": "2021-06-18T23:43:43.68133Z",
          "shell.execute_reply.started": "2021-06-18T23:43:43.662714Z",
          "shell.execute_reply": "2021-06-18T23:43:43.680555Z"
        },
        "trusted": true,
        "id": "OMVLOfkM5ayn",
        "colab": {
          "base_uri": "https://localhost:8080/",
          "height": 206
        },
        "outputId": "ac0de3c3-0f0c-4a1e-8d87-8730138ab193"
      },
      "source": [
        "final_df = final_df[final_df[\"sum_click\"] <= 10]\n",
        "final_df = final_df[final_df[\"num_of_prev_attempts\"] <= 4]\n",
        "final_df.head()"
      ],
      "execution_count": 21,
      "outputs": [
        {
          "output_type": "execute_result",
          "data": {
            "text/html": [
              "<div>\n",
              "<style scoped>\n",
              "    .dataframe tbody tr th:only-of-type {\n",
              "        vertical-align: middle;\n",
              "    }\n",
              "\n",
              "    .dataframe tbody tr th {\n",
              "        vertical-align: top;\n",
              "    }\n",
              "\n",
              "    .dataframe thead th {\n",
              "        text-align: right;\n",
              "    }\n",
              "</style>\n",
              "<table border=\"1\" class=\"dataframe\">\n",
              "  <thead>\n",
              "    <tr style=\"text-align: right;\">\n",
              "      <th></th>\n",
              "      <th>num_of_prev_attempts</th>\n",
              "      <th>weighted_grade</th>\n",
              "      <th>pass_rate</th>\n",
              "      <th>exam_score</th>\n",
              "      <th>date</th>\n",
              "      <th>sum_click</th>\n",
              "    </tr>\n",
              "  </thead>\n",
              "  <tbody>\n",
              "    <tr>\n",
              "      <th>0</th>\n",
              "      <td>0</td>\n",
              "      <td>89.65</td>\n",
              "      <td>1.000</td>\n",
              "      <td>94.0</td>\n",
              "      <td>103.457907</td>\n",
              "      <td>2.706754</td>\n",
              "    </tr>\n",
              "    <tr>\n",
              "      <th>1</th>\n",
              "      <td>0</td>\n",
              "      <td>84.58</td>\n",
              "      <td>1.000</td>\n",
              "      <td>76.0</td>\n",
              "      <td>87.617265</td>\n",
              "      <td>1.539047</td>\n",
              "    </tr>\n",
              "    <tr>\n",
              "      <th>2</th>\n",
              "      <td>0</td>\n",
              "      <td>51.44</td>\n",
              "      <td>0.625</td>\n",
              "      <td>66.0</td>\n",
              "      <td>49.181286</td>\n",
              "      <td>1.562619</td>\n",
              "    </tr>\n",
              "    <tr>\n",
              "      <th>3</th>\n",
              "      <td>0</td>\n",
              "      <td>75.13</td>\n",
              "      <td>1.000</td>\n",
              "      <td>50.0</td>\n",
              "      <td>118.698642</td>\n",
              "      <td>2.189217</td>\n",
              "    </tr>\n",
              "    <tr>\n",
              "      <th>4</th>\n",
              "      <td>0</td>\n",
              "      <td>93.22</td>\n",
              "      <td>1.000</td>\n",
              "      <td>98.0</td>\n",
              "      <td>75.791987</td>\n",
              "      <td>2.100617</td>\n",
              "    </tr>\n",
              "  </tbody>\n",
              "</table>\n",
              "</div>"
            ],
            "text/plain": [
              "   num_of_prev_attempts  weighted_grade  ...        date  sum_click\n",
              "0                     0           89.65  ...  103.457907   2.706754\n",
              "1                     0           84.58  ...   87.617265   1.539047\n",
              "2                     0           51.44  ...   49.181286   1.562619\n",
              "3                     0           75.13  ...  118.698642   2.189217\n",
              "4                     0           93.22  ...   75.791987   2.100617\n",
              "\n",
              "[5 rows x 6 columns]"
            ]
          },
          "metadata": {
            "tags": []
          },
          "execution_count": 21
        }
      ]
    },
    {
      "cell_type": "markdown",
      "metadata": {
        "id": "8-1bOXSNP2I9"
      },
      "source": [
        "### Agregando la columna \"Class\", la cual posee la etiqueta"
      ]
    },
    {
      "cell_type": "markdown",
      "metadata": {
        "id": "QpWCVIi929q-"
      },
      "source": [
        "Funcion que clasifica al alumno dependiendo del cálculo promedio entre \"weighted_grade\" y \"exam_score\""
      ]
    },
    {
      "cell_type": "code",
      "metadata": {
        "id": "_aemT9A5MgnL"
      },
      "source": [
        "def classification(grade):\n",
        "    if grade >= 62.5:\n",
        "        return 'Pass'\n",
        "    return 'Fail'"
      ],
      "execution_count": 22,
      "outputs": []
    },
    {
      "cell_type": "markdown",
      "metadata": {
        "id": "_tge6j_w3HKf"
      },
      "source": [
        "Se aplica la anterior función, en el dataset final."
      ]
    },
    {
      "cell_type": "code",
      "metadata": {
        "id": "atClJ-M0NCC5"
      },
      "source": [
        "final_df[\"score\"] = (final_df['weighted_grade'] + final_df['exam_score']) / 2\n",
        "final_df[\"class\"] = final_df[\"score\"].apply(classification)\n",
        "final_df.drop([\"score\"],axis=1,inplace=True)"
      ],
      "execution_count": 23,
      "outputs": []
    },
    {
      "cell_type": "markdown",
      "metadata": {
        "id": "6wbUdTdE3IHL"
      },
      "source": [
        "Se muestra los datos del dataset final y su descripcion"
      ]
    },
    {
      "cell_type": "code",
      "metadata": {
        "id": "60FW-EZcNXUh",
        "colab": {
          "base_uri": "https://localhost:8080/",
          "height": 363
        },
        "outputId": "8535480e-891e-46b8-f570-ae7578c1f7df"
      },
      "source": [
        "final_df.head(10)"
      ],
      "execution_count": 24,
      "outputs": [
        {
          "output_type": "execute_result",
          "data": {
            "text/html": [
              "<div>\n",
              "<style scoped>\n",
              "    .dataframe tbody tr th:only-of-type {\n",
              "        vertical-align: middle;\n",
              "    }\n",
              "\n",
              "    .dataframe tbody tr th {\n",
              "        vertical-align: top;\n",
              "    }\n",
              "\n",
              "    .dataframe thead th {\n",
              "        text-align: right;\n",
              "    }\n",
              "</style>\n",
              "<table border=\"1\" class=\"dataframe\">\n",
              "  <thead>\n",
              "    <tr style=\"text-align: right;\">\n",
              "      <th></th>\n",
              "      <th>num_of_prev_attempts</th>\n",
              "      <th>weighted_grade</th>\n",
              "      <th>pass_rate</th>\n",
              "      <th>exam_score</th>\n",
              "      <th>date</th>\n",
              "      <th>sum_click</th>\n",
              "      <th>class</th>\n",
              "    </tr>\n",
              "  </thead>\n",
              "  <tbody>\n",
              "    <tr>\n",
              "      <th>0</th>\n",
              "      <td>0</td>\n",
              "      <td>89.65</td>\n",
              "      <td>1.000</td>\n",
              "      <td>94.0</td>\n",
              "      <td>103.457907</td>\n",
              "      <td>2.706754</td>\n",
              "      <td>Pass</td>\n",
              "    </tr>\n",
              "    <tr>\n",
              "      <th>1</th>\n",
              "      <td>0</td>\n",
              "      <td>84.58</td>\n",
              "      <td>1.000</td>\n",
              "      <td>76.0</td>\n",
              "      <td>87.617265</td>\n",
              "      <td>1.539047</td>\n",
              "      <td>Pass</td>\n",
              "    </tr>\n",
              "    <tr>\n",
              "      <th>2</th>\n",
              "      <td>0</td>\n",
              "      <td>51.44</td>\n",
              "      <td>0.625</td>\n",
              "      <td>66.0</td>\n",
              "      <td>49.181286</td>\n",
              "      <td>1.562619</td>\n",
              "      <td>Fail</td>\n",
              "    </tr>\n",
              "    <tr>\n",
              "      <th>3</th>\n",
              "      <td>0</td>\n",
              "      <td>75.13</td>\n",
              "      <td>1.000</td>\n",
              "      <td>50.0</td>\n",
              "      <td>118.698642</td>\n",
              "      <td>2.189217</td>\n",
              "      <td>Pass</td>\n",
              "    </tr>\n",
              "    <tr>\n",
              "      <th>4</th>\n",
              "      <td>0</td>\n",
              "      <td>93.22</td>\n",
              "      <td>1.000</td>\n",
              "      <td>98.0</td>\n",
              "      <td>75.791987</td>\n",
              "      <td>2.100617</td>\n",
              "      <td>Pass</td>\n",
              "    </tr>\n",
              "    <tr>\n",
              "      <th>5</th>\n",
              "      <td>0</td>\n",
              "      <td>91.41</td>\n",
              "      <td>1.000</td>\n",
              "      <td>100.0</td>\n",
              "      <td>128.925733</td>\n",
              "      <td>2.072130</td>\n",
              "      <td>Pass</td>\n",
              "    </tr>\n",
              "    <tr>\n",
              "      <th>6</th>\n",
              "      <td>0</td>\n",
              "      <td>18.23</td>\n",
              "      <td>0.500</td>\n",
              "      <td>68.0</td>\n",
              "      <td>108.374980</td>\n",
              "      <td>2.503543</td>\n",
              "      <td>Fail</td>\n",
              "    </tr>\n",
              "    <tr>\n",
              "      <th>7</th>\n",
              "      <td>0</td>\n",
              "      <td>70.99</td>\n",
              "      <td>1.000</td>\n",
              "      <td>84.0</td>\n",
              "      <td>101.233634</td>\n",
              "      <td>1.724020</td>\n",
              "      <td>Pass</td>\n",
              "    </tr>\n",
              "    <tr>\n",
              "      <th>8</th>\n",
              "      <td>0</td>\n",
              "      <td>74.26</td>\n",
              "      <td>1.000</td>\n",
              "      <td>90.0</td>\n",
              "      <td>80.738280</td>\n",
              "      <td>2.638329</td>\n",
              "      <td>Pass</td>\n",
              "    </tr>\n",
              "    <tr>\n",
              "      <th>9</th>\n",
              "      <td>0</td>\n",
              "      <td>75.34</td>\n",
              "      <td>0.875</td>\n",
              "      <td>66.0</td>\n",
              "      <td>114.530983</td>\n",
              "      <td>2.654847</td>\n",
              "      <td>Pass</td>\n",
              "    </tr>\n",
              "  </tbody>\n",
              "</table>\n",
              "</div>"
            ],
            "text/plain": [
              "   num_of_prev_attempts  weighted_grade  pass_rate  ...        date  sum_click  class\n",
              "0                     0           89.65      1.000  ...  103.457907   2.706754   Pass\n",
              "1                     0           84.58      1.000  ...   87.617265   1.539047   Pass\n",
              "2                     0           51.44      0.625  ...   49.181286   1.562619   Fail\n",
              "3                     0           75.13      1.000  ...  118.698642   2.189217   Pass\n",
              "4                     0           93.22      1.000  ...   75.791987   2.100617   Pass\n",
              "5                     0           91.41      1.000  ...  128.925733   2.072130   Pass\n",
              "6                     0           18.23      0.500  ...  108.374980   2.503543   Fail\n",
              "7                     0           70.99      1.000  ...  101.233634   1.724020   Pass\n",
              "8                     0           74.26      1.000  ...   80.738280   2.638329   Pass\n",
              "9                     0           75.34      0.875  ...  114.530983   2.654847   Pass\n",
              "\n",
              "[10 rows x 7 columns]"
            ]
          },
          "metadata": {
            "tags": []
          },
          "execution_count": 24
        }
      ]
    },
    {
      "cell_type": "code",
      "metadata": {
        "execution": {
          "iopub.status.busy": "2021-06-18T23:43:32.198424Z",
          "iopub.execute_input": "2021-06-18T23:43:32.198734Z",
          "iopub.status.idle": "2021-06-18T23:43:32.237222Z",
          "shell.execute_reply.started": "2021-06-18T23:43:32.198706Z",
          "shell.execute_reply": "2021-06-18T23:43:32.236428Z"
        },
        "trusted": true,
        "id": "tgk0UjYF5ayk",
        "colab": {
          "base_uri": "https://localhost:8080/",
          "height": 300
        },
        "outputId": "e77f9d24-2ce7-45b6-dd13-cb1b4f450c3a"
      },
      "source": [
        "final_df.describe()"
      ],
      "execution_count": 25,
      "outputs": [
        {
          "output_type": "execute_result",
          "data": {
            "text/html": [
              "<div>\n",
              "<style scoped>\n",
              "    .dataframe tbody tr th:only-of-type {\n",
              "        vertical-align: middle;\n",
              "    }\n",
              "\n",
              "    .dataframe tbody tr th {\n",
              "        vertical-align: top;\n",
              "    }\n",
              "\n",
              "    .dataframe thead th {\n",
              "        text-align: right;\n",
              "    }\n",
              "</style>\n",
              "<table border=\"1\" class=\"dataframe\">\n",
              "  <thead>\n",
              "    <tr style=\"text-align: right;\">\n",
              "      <th></th>\n",
              "      <th>num_of_prev_attempts</th>\n",
              "      <th>weighted_grade</th>\n",
              "      <th>pass_rate</th>\n",
              "      <th>exam_score</th>\n",
              "      <th>date</th>\n",
              "      <th>sum_click</th>\n",
              "    </tr>\n",
              "  </thead>\n",
              "  <tbody>\n",
              "    <tr>\n",
              "      <th>count</th>\n",
              "      <td>4948.000000</td>\n",
              "      <td>4948.000000</td>\n",
              "      <td>4948.000000</td>\n",
              "      <td>4948.000000</td>\n",
              "      <td>4948.000000</td>\n",
              "      <td>4948.000000</td>\n",
              "    </tr>\n",
              "    <tr>\n",
              "      <th>mean</th>\n",
              "      <td>0.117623</td>\n",
              "      <td>66.275835</td>\n",
              "      <td>0.868588</td>\n",
              "      <td>65.600647</td>\n",
              "      <td>101.034357</td>\n",
              "      <td>2.013959</td>\n",
              "    </tr>\n",
              "    <tr>\n",
              "      <th>std</th>\n",
              "      <td>0.389249</td>\n",
              "      <td>21.224080</td>\n",
              "      <td>0.182962</td>\n",
              "      <td>20.568093</td>\n",
              "      <td>24.914546</td>\n",
              "      <td>0.704854</td>\n",
              "    </tr>\n",
              "    <tr>\n",
              "      <th>min</th>\n",
              "      <td>0.000000</td>\n",
              "      <td>1.120000</td>\n",
              "      <td>0.125000</td>\n",
              "      <td>0.000000</td>\n",
              "      <td>17.566546</td>\n",
              "      <td>1.000000</td>\n",
              "    </tr>\n",
              "    <tr>\n",
              "      <th>25%</th>\n",
              "      <td>0.000000</td>\n",
              "      <td>51.497500</td>\n",
              "      <td>0.769231</td>\n",
              "      <td>51.000000</td>\n",
              "      <td>84.674763</td>\n",
              "      <td>1.544976</td>\n",
              "    </tr>\n",
              "    <tr>\n",
              "      <th>50%</th>\n",
              "      <td>0.000000</td>\n",
              "      <td>69.750000</td>\n",
              "      <td>1.000000</td>\n",
              "      <td>67.000000</td>\n",
              "      <td>99.934331</td>\n",
              "      <td>1.802246</td>\n",
              "    </tr>\n",
              "    <tr>\n",
              "      <th>75%</th>\n",
              "      <td>0.000000</td>\n",
              "      <td>83.607500</td>\n",
              "      <td>1.000000</td>\n",
              "      <td>82.000000</td>\n",
              "      <td>116.607155</td>\n",
              "      <td>2.279879</td>\n",
              "    </tr>\n",
              "    <tr>\n",
              "      <th>max</th>\n",
              "      <td>4.000000</td>\n",
              "      <td>100.000000</td>\n",
              "      <td>1.000000</td>\n",
              "      <td>100.000000</td>\n",
              "      <td>237.035714</td>\n",
              "      <td>9.029665</td>\n",
              "    </tr>\n",
              "  </tbody>\n",
              "</table>\n",
              "</div>"
            ],
            "text/plain": [
              "       num_of_prev_attempts  weighted_grade  ...         date    sum_click\n",
              "count           4948.000000     4948.000000  ...  4948.000000  4948.000000\n",
              "mean               0.117623       66.275835  ...   101.034357     2.013959\n",
              "std                0.389249       21.224080  ...    24.914546     0.704854\n",
              "min                0.000000        1.120000  ...    17.566546     1.000000\n",
              "25%                0.000000       51.497500  ...    84.674763     1.544976\n",
              "50%                0.000000       69.750000  ...    99.934331     1.802246\n",
              "75%                0.000000       83.607500  ...   116.607155     2.279879\n",
              "max                4.000000      100.000000  ...   237.035714     9.029665\n",
              "\n",
              "[8 rows x 6 columns]"
            ]
          },
          "metadata": {
            "tags": []
          },
          "execution_count": 25
        }
      ]
    },
    {
      "cell_type": "markdown",
      "metadata": {
        "id": "ljG0PrAnHZME"
      },
      "source": [
        "En la siguiente gráfica se ve el número de estudiantes por clases que hay en el dataset final."
      ]
    },
    {
      "cell_type": "code",
      "metadata": {
        "id": "bsBG5IkVcZbc",
        "colab": {
          "base_uri": "https://localhost:8080/",
          "height": 405
        },
        "outputId": "6c83395c-836b-4ca9-ee04-7ef3ca13e4b2"
      },
      "source": [
        "plt.figure(figsize=(8,6))\n",
        "sns.countplot(data=final_df, x=\"class\")"
      ],
      "execution_count": 26,
      "outputs": [
        {
          "output_type": "execute_result",
          "data": {
            "text/plain": [
              "<matplotlib.axes._subplots.AxesSubplot at 0x7efff3932250>"
            ]
          },
          "metadata": {
            "tags": []
          },
          "execution_count": 26
        },
        {
          "output_type": "display_data",
          "data": {
            "image/png": "[encoded data removed]",
            "text/plain": [
              "<Figure size 576x432 with 1 Axes>"
            ]
          },
          "metadata": {
            "tags": [],
            "needs_background": "light"
          }
        }
      ]
    },
    {
      "cell_type": "markdown",
      "metadata": {
        "id": "w4NTY2F15ayn"
      },
      "source": [
        "## Preprocesamiento para el modelo de red neuronal."
      ]
    },
    {
      "cell_type": "markdown",
      "metadata": {
        "id": "Bk_aPh8JQLn7"
      },
      "source": [
        "Se separa el dataset limpio en datos de entrada y salida."
      ]
    },
    {
      "cell_type": "code",
      "metadata": {
        "id": "mevLOsqSPfT3"
      },
      "source": [
        "X = final_df.drop([\"class\", \"exam_score\"], axis=1)\n",
        "y = final_df[\"class\"]"
      ],
      "execution_count": 27,
      "outputs": []
    },
    {
      "cell_type": "markdown",
      "metadata": {
        "id": "SAoJjLOQrvg0"
      },
      "source": [
        "Los datos de entrada y salida se dividen en datos de entrenamiento y datos de validación, para evitar overfitting."
      ]
    },
    {
      "cell_type": "code",
      "metadata": {
        "id": "g6tzByNErxow"
      },
      "source": [
        "X_train, X_test, y_train, y_test = train_test_split(X, y, test_size=0.3)"
      ],
      "execution_count": 28,
      "outputs": []
    },
    {
      "cell_type": "markdown",
      "metadata": {
        "id": "q7lYLK8qQfxT"
      },
      "source": [
        "Se escala todos los valores de entrada para el modelo de red neuronal en el rango [0 - 1]."
      ]
    },
    {
      "cell_type": "code",
      "metadata": {
        "id": "8gDCTHk_QUfF"
      },
      "source": [
        "scaler = MinMaxScaler()\n",
        "X_train = scaler.fit_transform(X_train)\n",
        "X_test = scaler.transform(X_test)"
      ],
      "execution_count": 29,
      "outputs": []
    },
    {
      "cell_type": "markdown",
      "metadata": {
        "id": "Xpbb1tR-qHpU"
      },
      "source": [
        "Funcion que convierte la clase del patron de entrenamiento de string a numero"
      ]
    },
    {
      "cell_type": "code",
      "metadata": {
        "execution": {
          "iopub.status.busy": "2021-06-18T23:43:56.504042Z",
          "iopub.execute_input": "2021-06-18T23:43:56.504841Z",
          "iopub.status.idle": "2021-06-18T23:43:56.515216Z",
          "shell.execute_reply.started": "2021-06-18T23:43:56.504795Z",
          "shell.execute_reply": "2021-06-18T23:43:56.514031Z"
        },
        "trusted": true,
        "id": "8vNG9zAb5ayt"
      },
      "source": [
        "def categories(cat):\n",
        "    if cat==\"Fail\":\n",
        "        return 0\n",
        "    if cat==\"Pass\":\n",
        "        return 1\n",
        "    \n",
        "y_test = np.asarray(list(map(categories, y_test)))\n",
        "y_train = np.asarray(list(map(categories, y_train)))"
      ],
      "execution_count": 30,
      "outputs": []
    },
    {
      "cell_type": "markdown",
      "metadata": {
        "id": "hgRQLqfK5ays"
      },
      "source": [
        "## Red Neuronal Multicapa"
      ]
    },
    {
      "cell_type": "markdown",
      "metadata": {
        "id": "Rbt4DhCwqOU2"
      },
      "source": [
        "Se define y compila el modelo"
      ]
    },
    {
      "cell_type": "code",
      "metadata": {
        "id": "920KS00uQiYd"
      },
      "source": [
        "model1=Sequential()\n",
        "\n",
        "model1.add(Dense(5, activation=\"relu\"))\n",
        "model1.add(Dropout(0.5))\n",
        "model1.add(Dense(8, activation=\"relu\"))\n",
        "model1.add(Dense(1, activation=\"sigmoid\"))\n",
        "\n",
        "model1.compile(loss=\"binary_crossentropy\", optimizer=\"adam\",\n",
        "             metrics=['accuracy'])"
      ],
      "execution_count": 31,
      "outputs": []
    },
    {
      "cell_type": "markdown",
      "metadata": {
        "id": "sGPN_5y3pXEz"
      },
      "source": [
        "Entrenamiento del modelo."
      ]
    },
    {
      "cell_type": "code",
      "metadata": {
        "execution": {
          "iopub.status.busy": "2021-06-18T23:43:56.531936Z",
          "iopub.execute_input": "2021-06-18T23:43:56.532561Z",
          "iopub.status.idle": "2021-06-18T23:44:26.038498Z",
          "shell.execute_reply.started": "2021-06-18T23:43:56.532526Z",
          "shell.execute_reply": "2021-06-18T23:44:26.037268Z"
        },
        "trusted": true,
        "id": "yIgyvt3W5ayt",
        "colab": {
          "base_uri": "https://localhost:8080/"
        },
        "outputId": "c69bd02d-1213-426e-87cd-e2e10c5d4364"
      },
      "source": [
        "model1.fit(x= X_train, y= y_train, epochs= 100, validation_data= (X_test,y_test))"
      ],
      "execution_count": 32,
      "outputs": [
        {
          "output_type": "stream",
          "text": [
            "Epoch 1/100\n",
            "109/109 [==============================] - 1s 3ms/step - loss: 0.7108 - accuracy: 0.5117 - val_loss: 0.6804 - val_accuracy: 0.5717\n",
            "Epoch 2/100\n",
            "109/109 [==============================] - 0s 2ms/step - loss: 0.6794 - accuracy: 0.5507 - val_loss: 0.6640 - val_accuracy: 0.5899\n",
            "Epoch 3/100\n",
            "109/109 [==============================] - 0s 2ms/step - loss: 0.6552 - accuracy: 0.6044 - val_loss: 0.6347 - val_accuracy: 0.6741\n",
            "Epoch 4/100\n",
            "109/109 [==============================] - 0s 2ms/step - loss: 0.6344 - accuracy: 0.6162 - val_loss: 0.6038 - val_accuracy: 0.7172\n",
            "Epoch 5/100\n",
            "109/109 [==============================] - 0s 2ms/step - loss: 0.6110 - accuracy: 0.6382 - val_loss: 0.5675 - val_accuracy: 0.7535\n",
            "Epoch 6/100\n",
            "109/109 [==============================] - 0s 2ms/step - loss: 0.5872 - accuracy: 0.6613 - val_loss: 0.5322 - val_accuracy: 0.7798\n",
            "Epoch 7/100\n",
            "109/109 [==============================] - 0s 2ms/step - loss: 0.5668 - accuracy: 0.6867 - val_loss: 0.5017 - val_accuracy: 0.8000\n",
            "Epoch 8/100\n",
            "109/109 [==============================] - 0s 3ms/step - loss: 0.5422 - accuracy: 0.7291 - val_loss: 0.4741 - val_accuracy: 0.8148\n",
            "Epoch 9/100\n",
            "109/109 [==============================] - 0s 2ms/step - loss: 0.5199 - accuracy: 0.7427 - val_loss: 0.4529 - val_accuracy: 0.8256\n",
            "Epoch 10/100\n",
            "109/109 [==============================] - 0s 2ms/step - loss: 0.5141 - accuracy: 0.7398 - val_loss: 0.4414 - val_accuracy: 0.8249\n",
            "Epoch 11/100\n",
            "109/109 [==============================] - 0s 2ms/step - loss: 0.4884 - accuracy: 0.7638 - val_loss: 0.4191 - val_accuracy: 0.8290\n",
            "Epoch 12/100\n",
            "109/109 [==============================] - 0s 2ms/step - loss: 0.4746 - accuracy: 0.7704 - val_loss: 0.4055 - val_accuracy: 0.8357\n",
            "Epoch 13/100\n",
            "109/109 [==============================] - 0s 2ms/step - loss: 0.4731 - accuracy: 0.7649 - val_loss: 0.3923 - val_accuracy: 0.8444\n",
            "Epoch 14/100\n",
            "109/109 [==============================] - 0s 2ms/step - loss: 0.4603 - accuracy: 0.7707 - val_loss: 0.3824 - val_accuracy: 0.8451\n",
            "Epoch 15/100\n",
            "109/109 [==============================] - 0s 2ms/step - loss: 0.4519 - accuracy: 0.7791 - val_loss: 0.3649 - val_accuracy: 0.8532\n",
            "Epoch 16/100\n",
            "109/109 [==============================] - 0s 2ms/step - loss: 0.4403 - accuracy: 0.7886 - val_loss: 0.3542 - val_accuracy: 0.8606\n",
            "Epoch 17/100\n",
            "109/109 [==============================] - 0s 2ms/step - loss: 0.4322 - accuracy: 0.7852 - val_loss: 0.3483 - val_accuracy: 0.8673\n",
            "Epoch 18/100\n",
            "109/109 [==============================] - 0s 2ms/step - loss: 0.4370 - accuracy: 0.7834 - val_loss: 0.3418 - val_accuracy: 0.8721\n",
            "Epoch 19/100\n",
            "109/109 [==============================] - 0s 2ms/step - loss: 0.4233 - accuracy: 0.7912 - val_loss: 0.3381 - val_accuracy: 0.8721\n",
            "Epoch 20/100\n",
            "109/109 [==============================] - 0s 2ms/step - loss: 0.4102 - accuracy: 0.7875 - val_loss: 0.3353 - val_accuracy: 0.8613\n",
            "Epoch 21/100\n",
            "109/109 [==============================] - 0s 2ms/step - loss: 0.4078 - accuracy: 0.7999 - val_loss: 0.3283 - val_accuracy: 0.8721\n",
            "Epoch 22/100\n",
            "109/109 [==============================] - 0s 2ms/step - loss: 0.4015 - accuracy: 0.8010 - val_loss: 0.3236 - val_accuracy: 0.8842\n",
            "Epoch 23/100\n",
            "109/109 [==============================] - 0s 2ms/step - loss: 0.4135 - accuracy: 0.7852 - val_loss: 0.3269 - val_accuracy: 0.8694\n",
            "Epoch 24/100\n",
            "109/109 [==============================] - 0s 2ms/step - loss: 0.4078 - accuracy: 0.7970 - val_loss: 0.3176 - val_accuracy: 0.8747\n",
            "Epoch 25/100\n",
            "109/109 [==============================] - 0s 2ms/step - loss: 0.4027 - accuracy: 0.7950 - val_loss: 0.3115 - val_accuracy: 0.8727\n",
            "Epoch 26/100\n",
            "109/109 [==============================] - 0s 2ms/step - loss: 0.4055 - accuracy: 0.8057 - val_loss: 0.3138 - val_accuracy: 0.8774\n",
            "Epoch 27/100\n",
            "109/109 [==============================] - 0s 2ms/step - loss: 0.3947 - accuracy: 0.8071 - val_loss: 0.3150 - val_accuracy: 0.8734\n",
            "Epoch 28/100\n",
            "109/109 [==============================] - 0s 2ms/step - loss: 0.3892 - accuracy: 0.8042 - val_loss: 0.3038 - val_accuracy: 0.8754\n",
            "Epoch 29/100\n",
            "109/109 [==============================] - 0s 2ms/step - loss: 0.3951 - accuracy: 0.8068 - val_loss: 0.3041 - val_accuracy: 0.8754\n",
            "Epoch 30/100\n",
            "109/109 [==============================] - 0s 2ms/step - loss: 0.3907 - accuracy: 0.8036 - val_loss: 0.3002 - val_accuracy: 0.8822\n",
            "Epoch 31/100\n",
            "109/109 [==============================] - 0s 2ms/step - loss: 0.3843 - accuracy: 0.8074 - val_loss: 0.3018 - val_accuracy: 0.8774\n",
            "Epoch 32/100\n",
            "109/109 [==============================] - 0s 2ms/step - loss: 0.3931 - accuracy: 0.8028 - val_loss: 0.3088 - val_accuracy: 0.8754\n",
            "Epoch 33/100\n",
            "109/109 [==============================] - 0s 2ms/step - loss: 0.3902 - accuracy: 0.8065 - val_loss: 0.3010 - val_accuracy: 0.8768\n",
            "Epoch 34/100\n",
            "109/109 [==============================] - 0s 2ms/step - loss: 0.3789 - accuracy: 0.8126 - val_loss: 0.3029 - val_accuracy: 0.8741\n",
            "Epoch 35/100\n",
            "109/109 [==============================] - 0s 2ms/step - loss: 0.3804 - accuracy: 0.8120 - val_loss: 0.2967 - val_accuracy: 0.8808\n",
            "Epoch 36/100\n",
            "109/109 [==============================] - 0s 2ms/step - loss: 0.3714 - accuracy: 0.8218 - val_loss: 0.2906 - val_accuracy: 0.8835\n",
            "Epoch 37/100\n",
            "109/109 [==============================] - 0s 2ms/step - loss: 0.3815 - accuracy: 0.8187 - val_loss: 0.2918 - val_accuracy: 0.8848\n",
            "Epoch 38/100\n",
            "109/109 [==============================] - 0s 2ms/step - loss: 0.3775 - accuracy: 0.8129 - val_loss: 0.2950 - val_accuracy: 0.8835\n",
            "Epoch 39/100\n",
            "109/109 [==============================] - 0s 2ms/step - loss: 0.3807 - accuracy: 0.8239 - val_loss: 0.2939 - val_accuracy: 0.8822\n",
            "Epoch 40/100\n",
            "109/109 [==============================] - 0s 2ms/step - loss: 0.3734 - accuracy: 0.8241 - val_loss: 0.2952 - val_accuracy: 0.8774\n",
            "Epoch 41/100\n",
            "109/109 [==============================] - 0s 2ms/step - loss: 0.3840 - accuracy: 0.8143 - val_loss: 0.3003 - val_accuracy: 0.8828\n",
            "Epoch 42/100\n",
            "109/109 [==============================] - 0s 2ms/step - loss: 0.3790 - accuracy: 0.8184 - val_loss: 0.2909 - val_accuracy: 0.8822\n",
            "Epoch 43/100\n",
            "109/109 [==============================] - 0s 2ms/step - loss: 0.3843 - accuracy: 0.8137 - val_loss: 0.2917 - val_accuracy: 0.8822\n",
            "Epoch 44/100\n",
            "109/109 [==============================] - 0s 2ms/step - loss: 0.3680 - accuracy: 0.8129 - val_loss: 0.2884 - val_accuracy: 0.8808\n",
            "Epoch 45/100\n",
            "109/109 [==============================] - 0s 2ms/step - loss: 0.3720 - accuracy: 0.8207 - val_loss: 0.2926 - val_accuracy: 0.8815\n",
            "Epoch 46/100\n",
            "109/109 [==============================] - 0s 2ms/step - loss: 0.3775 - accuracy: 0.8207 - val_loss: 0.2876 - val_accuracy: 0.8835\n",
            "Epoch 47/100\n",
            "109/109 [==============================] - 0s 2ms/step - loss: 0.3787 - accuracy: 0.8187 - val_loss: 0.2899 - val_accuracy: 0.8822\n",
            "Epoch 48/100\n",
            "109/109 [==============================] - 0s 2ms/step - loss: 0.3723 - accuracy: 0.8201 - val_loss: 0.2902 - val_accuracy: 0.8801\n",
            "Epoch 49/100\n",
            "109/109 [==============================] - 0s 2ms/step - loss: 0.3675 - accuracy: 0.8221 - val_loss: 0.2920 - val_accuracy: 0.8788\n",
            "Epoch 50/100\n",
            "109/109 [==============================] - 0s 2ms/step - loss: 0.3742 - accuracy: 0.8149 - val_loss: 0.2853 - val_accuracy: 0.8855\n",
            "Epoch 51/100\n",
            "109/109 [==============================] - 0s 2ms/step - loss: 0.3823 - accuracy: 0.8094 - val_loss: 0.2887 - val_accuracy: 0.8815\n",
            "Epoch 52/100\n",
            "109/109 [==============================] - 0s 2ms/step - loss: 0.3696 - accuracy: 0.8163 - val_loss: 0.2910 - val_accuracy: 0.8761\n",
            "Epoch 53/100\n",
            "109/109 [==============================] - 0s 2ms/step - loss: 0.3732 - accuracy: 0.8192 - val_loss: 0.2882 - val_accuracy: 0.8855\n",
            "Epoch 54/100\n",
            "109/109 [==============================] - 0s 2ms/step - loss: 0.3668 - accuracy: 0.8253 - val_loss: 0.2918 - val_accuracy: 0.8741\n",
            "Epoch 55/100\n",
            "109/109 [==============================] - 0s 2ms/step - loss: 0.3691 - accuracy: 0.8215 - val_loss: 0.2873 - val_accuracy: 0.8781\n",
            "Epoch 56/100\n",
            "109/109 [==============================] - 0s 2ms/step - loss: 0.3737 - accuracy: 0.8178 - val_loss: 0.2859 - val_accuracy: 0.8815\n",
            "Epoch 57/100\n",
            "109/109 [==============================] - 0s 2ms/step - loss: 0.3703 - accuracy: 0.8227 - val_loss: 0.2886 - val_accuracy: 0.8795\n",
            "Epoch 58/100\n",
            "109/109 [==============================] - 0s 2ms/step - loss: 0.3773 - accuracy: 0.8250 - val_loss: 0.2851 - val_accuracy: 0.8768\n",
            "Epoch 59/100\n",
            "109/109 [==============================] - 0s 2ms/step - loss: 0.3758 - accuracy: 0.8135 - val_loss: 0.2872 - val_accuracy: 0.8754\n",
            "Epoch 60/100\n",
            "109/109 [==============================] - 0s 2ms/step - loss: 0.3805 - accuracy: 0.8204 - val_loss: 0.2933 - val_accuracy: 0.8714\n",
            "Epoch 61/100\n",
            "109/109 [==============================] - 0s 2ms/step - loss: 0.3769 - accuracy: 0.8184 - val_loss: 0.2929 - val_accuracy: 0.8747\n",
            "Epoch 62/100\n",
            "109/109 [==============================] - 0s 2ms/step - loss: 0.3690 - accuracy: 0.8221 - val_loss: 0.2801 - val_accuracy: 0.8828\n",
            "Epoch 63/100\n",
            "109/109 [==============================] - 0s 2ms/step - loss: 0.3624 - accuracy: 0.8210 - val_loss: 0.2844 - val_accuracy: 0.8795\n",
            "Epoch 64/100\n",
            "109/109 [==============================] - 0s 2ms/step - loss: 0.3710 - accuracy: 0.8137 - val_loss: 0.2907 - val_accuracy: 0.8754\n",
            "Epoch 65/100\n",
            "109/109 [==============================] - 0s 2ms/step - loss: 0.3696 - accuracy: 0.8189 - val_loss: 0.2863 - val_accuracy: 0.8741\n",
            "Epoch 66/100\n",
            "109/109 [==============================] - 0s 2ms/step - loss: 0.3765 - accuracy: 0.8149 - val_loss: 0.2823 - val_accuracy: 0.8815\n",
            "Epoch 67/100\n",
            "109/109 [==============================] - 0s 2ms/step - loss: 0.3628 - accuracy: 0.8207 - val_loss: 0.2872 - val_accuracy: 0.8788\n",
            "Epoch 68/100\n",
            "109/109 [==============================] - 0s 2ms/step - loss: 0.3710 - accuracy: 0.8279 - val_loss: 0.2826 - val_accuracy: 0.8768\n",
            "Epoch 69/100\n",
            "109/109 [==============================] - 0s 2ms/step - loss: 0.3723 - accuracy: 0.8230 - val_loss: 0.2890 - val_accuracy: 0.8721\n",
            "Epoch 70/100\n",
            "109/109 [==============================] - 0s 2ms/step - loss: 0.3631 - accuracy: 0.8236 - val_loss: 0.2850 - val_accuracy: 0.8734\n",
            "Epoch 71/100\n",
            "109/109 [==============================] - 0s 2ms/step - loss: 0.3742 - accuracy: 0.8166 - val_loss: 0.2865 - val_accuracy: 0.8741\n",
            "Epoch 72/100\n",
            "109/109 [==============================] - 0s 2ms/step - loss: 0.3629 - accuracy: 0.8253 - val_loss: 0.2840 - val_accuracy: 0.8862\n",
            "Epoch 73/100\n",
            "109/109 [==============================] - 0s 2ms/step - loss: 0.3683 - accuracy: 0.8210 - val_loss: 0.2826 - val_accuracy: 0.8774\n",
            "Epoch 74/100\n",
            "109/109 [==============================] - 0s 2ms/step - loss: 0.3631 - accuracy: 0.8198 - val_loss: 0.2787 - val_accuracy: 0.8855\n",
            "Epoch 75/100\n",
            "109/109 [==============================] - 0s 2ms/step - loss: 0.3677 - accuracy: 0.8201 - val_loss: 0.2838 - val_accuracy: 0.8747\n",
            "Epoch 76/100\n",
            "109/109 [==============================] - 0s 2ms/step - loss: 0.3732 - accuracy: 0.8210 - val_loss: 0.2875 - val_accuracy: 0.8741\n",
            "Epoch 77/100\n",
            "109/109 [==============================] - 0s 2ms/step - loss: 0.3647 - accuracy: 0.8256 - val_loss: 0.2849 - val_accuracy: 0.8768\n",
            "Epoch 78/100\n",
            "109/109 [==============================] - 0s 2ms/step - loss: 0.3695 - accuracy: 0.8210 - val_loss: 0.2823 - val_accuracy: 0.8761\n",
            "Epoch 79/100\n",
            "109/109 [==============================] - 0s 2ms/step - loss: 0.3718 - accuracy: 0.8149 - val_loss: 0.2852 - val_accuracy: 0.8734\n",
            "Epoch 80/100\n",
            "109/109 [==============================] - 0s 2ms/step - loss: 0.3610 - accuracy: 0.8239 - val_loss: 0.2846 - val_accuracy: 0.8768\n",
            "Epoch 81/100\n",
            "109/109 [==============================] - 0s 2ms/step - loss: 0.3684 - accuracy: 0.8149 - val_loss: 0.2822 - val_accuracy: 0.8822\n",
            "Epoch 82/100\n",
            "109/109 [==============================] - 0s 2ms/step - loss: 0.3681 - accuracy: 0.8163 - val_loss: 0.2882 - val_accuracy: 0.8667\n",
            "Epoch 83/100\n",
            "109/109 [==============================] - 0s 2ms/step - loss: 0.3649 - accuracy: 0.8198 - val_loss: 0.2839 - val_accuracy: 0.8741\n",
            "Epoch 84/100\n",
            "109/109 [==============================] - 0s 2ms/step - loss: 0.3688 - accuracy: 0.8181 - val_loss: 0.2917 - val_accuracy: 0.8680\n",
            "Epoch 85/100\n",
            "109/109 [==============================] - 0s 2ms/step - loss: 0.3670 - accuracy: 0.8198 - val_loss: 0.2861 - val_accuracy: 0.8754\n",
            "Epoch 86/100\n",
            "109/109 [==============================] - 0s 2ms/step - loss: 0.3708 - accuracy: 0.8224 - val_loss: 0.2914 - val_accuracy: 0.8734\n",
            "Epoch 87/100\n",
            "109/109 [==============================] - 0s 2ms/step - loss: 0.3606 - accuracy: 0.8195 - val_loss: 0.2830 - val_accuracy: 0.8808\n",
            "Epoch 88/100\n",
            "109/109 [==============================] - 0s 2ms/step - loss: 0.3721 - accuracy: 0.8149 - val_loss: 0.2830 - val_accuracy: 0.8835\n",
            "Epoch 89/100\n",
            "109/109 [==============================] - 0s 2ms/step - loss: 0.3629 - accuracy: 0.8224 - val_loss: 0.2882 - val_accuracy: 0.8721\n",
            "Epoch 90/100\n",
            "109/109 [==============================] - 0s 2ms/step - loss: 0.3632 - accuracy: 0.8239 - val_loss: 0.2871 - val_accuracy: 0.8707\n",
            "Epoch 91/100\n",
            "109/109 [==============================] - 0s 2ms/step - loss: 0.3673 - accuracy: 0.8201 - val_loss: 0.2849 - val_accuracy: 0.8741\n",
            "Epoch 92/100\n",
            "109/109 [==============================] - 0s 2ms/step - loss: 0.3669 - accuracy: 0.8256 - val_loss: 0.2844 - val_accuracy: 0.8781\n",
            "Epoch 93/100\n",
            "109/109 [==============================] - 0s 2ms/step - loss: 0.3635 - accuracy: 0.8250 - val_loss: 0.2831 - val_accuracy: 0.8754\n",
            "Epoch 94/100\n",
            "109/109 [==============================] - 0s 2ms/step - loss: 0.3627 - accuracy: 0.8215 - val_loss: 0.2872 - val_accuracy: 0.8707\n",
            "Epoch 95/100\n",
            "109/109 [==============================] - 0s 2ms/step - loss: 0.3646 - accuracy: 0.8239 - val_loss: 0.2843 - val_accuracy: 0.8734\n",
            "Epoch 96/100\n",
            "109/109 [==============================] - 0s 2ms/step - loss: 0.3700 - accuracy: 0.8210 - val_loss: 0.2871 - val_accuracy: 0.8721\n",
            "Epoch 97/100\n",
            "109/109 [==============================] - 0s 2ms/step - loss: 0.3640 - accuracy: 0.8215 - val_loss: 0.2817 - val_accuracy: 0.8781\n",
            "Epoch 98/100\n",
            "109/109 [==============================] - 0s 2ms/step - loss: 0.3659 - accuracy: 0.8117 - val_loss: 0.2821 - val_accuracy: 0.8795\n",
            "Epoch 99/100\n",
            "109/109 [==============================] - 0s 2ms/step - loss: 0.3513 - accuracy: 0.8276 - val_loss: 0.2809 - val_accuracy: 0.8822\n",
            "Epoch 100/100\n",
            "109/109 [==============================] - 0s 3ms/step - loss: 0.3649 - accuracy: 0.8152 - val_loss: 0.2874 - val_accuracy: 0.8781\n"
          ],
          "name": "stdout"
        },
        {
          "output_type": "execute_result",
          "data": {
            "text/plain": [
              "<tensorflow.python.keras.callbacks.History at 0x7efff35989d0>"
            ]
          },
          "metadata": {
            "tags": []
          },
          "execution_count": 32
        }
      ]
    },
    {
      "cell_type": "markdown",
      "metadata": {
        "id": "JKmU99Fjop0A"
      },
      "source": [
        "## Resultados"
      ]
    },
    {
      "cell_type": "markdown",
      "metadata": {
        "id": "POtbS8AuoiCh"
      },
      "source": [
        "Graficamos las méétricas que se utilizaron en el entrenamiento y validación del modelo."
      ]
    },
    {
      "cell_type": "code",
      "metadata": {
        "execution": {
          "iopub.status.busy": "2021-06-18T23:44:26.040107Z",
          "iopub.execute_input": "2021-06-18T23:44:26.040569Z",
          "iopub.status.idle": "2021-06-18T23:44:26.310938Z",
          "shell.execute_reply.started": "2021-06-18T23:44:26.040522Z",
          "shell.execute_reply": "2021-06-18T23:44:26.309738Z"
        },
        "trusted": true,
        "id": "03BWwQ325ayt",
        "colab": {
          "base_uri": "https://localhost:8080/",
          "height": 282
        },
        "outputId": "32429c6f-e5bd-4b85-c729-81573cb85d7d"
      },
      "source": [
        "metrics=pd.DataFrame(model1.history.history)\n",
        "metrics.plot()"
      ],
      "execution_count": 33,
      "outputs": [
        {
          "output_type": "execute_result",
          "data": {
            "text/plain": [
              "<matplotlib.axes._subplots.AxesSubplot at 0x7effec094350>"
            ]
          },
          "metadata": {
            "tags": []
          },
          "execution_count": 33
        },
        {
          "output_type": "display_data",
          "data": {
            "image/png": "[encoded data removed]",
            "text/plain": [
              "<Figure size 432x288 with 1 Axes>"
            ]
          },
          "metadata": {
            "tags": [],
            "needs_background": "light"
          }
        }
      ]
    },
    {
      "cell_type": "markdown",
      "metadata": {
        "id": "FHutR6S-o44A"
      },
      "source": [
        "Confusion Matrix"
      ]
    },
    {
      "cell_type": "code",
      "metadata": {
        "execution": {
          "iopub.status.busy": "2021-06-18T23:44:26.312955Z",
          "iopub.execute_input": "2021-06-18T23:44:26.313422Z",
          "iopub.status.idle": "2021-06-18T23:44:26.46586Z",
          "shell.execute_reply.started": "2021-06-18T23:44:26.313374Z",
          "shell.execute_reply": "2021-06-18T23:44:26.464856Z"
        },
        "trusted": true,
        "id": "ZkoauC_A5ayt",
        "colab": {
          "base_uri": "https://localhost:8080/",
          "height": 337
        },
        "outputId": "3953e764-19c1-438e-ca07-79487623108d"
      },
      "source": [
        "predictions=model1.predict_classes(X_test)\n",
        "cf_matrix = confusion_matrix(y_test,predictions)\n",
        "\n",
        "sns.heatmap(cf_matrix, annot=True, fmt='.0f', cmap='Blues')"
      ],
      "execution_count": 37,
      "outputs": [
        {
          "output_type": "stream",
          "text": [
            "/usr/local/lib/python3.7/dist-packages/tensorflow/python/keras/engine/sequential.py:455: UserWarning: `model.predict_classes()` is deprecated and will be removed after 2021-01-01. Please use instead:* `np.argmax(model.predict(x), axis=-1)`,   if your model does multi-class classification   (e.g. if it uses a `softmax` last-layer activation).* `(model.predict(x) > 0.5).astype(\"int32\")`,   if your model does binary classification   (e.g. if it uses a `sigmoid` last-layer activation).\n",
            "  warnings.warn('`model.predict_classes()` is deprecated and '\n"
          ],
          "name": "stderr"
        },
        {
          "output_type": "execute_result",
          "data": {
            "text/plain": [
              "<matplotlib.axes._subplots.AxesSubplot at 0x7effea557190>"
            ]
          },
          "metadata": {
            "tags": []
          },
          "execution_count": 37
        },
        {
          "output_type": "display_data",
          "data": {
            "image/png": "[encoded data removed]",
            "text/plain": [
              "<Figure size 432x288 with 2 Axes>"
            ]
          },
          "metadata": {
            "tags": [],
            "needs_background": "light"
          }
        }
      ]
    },
    {
      "cell_type": "markdown",
      "metadata": {
        "id": "I8vR7RZHs8a4"
      },
      "source": [
        "Precision, Recall y F1-score."
      ]
    },
    {
      "cell_type": "code",
      "metadata": {
        "colab": {
          "base_uri": "https://localhost:8080/"
        },
        "id": "aF2nwX-1s0b6",
        "outputId": "d5784417-04dd-4c3f-dff2-06ea3e14a523"
      },
      "source": [
        "print(classification_report(y_test,predictions))"
      ],
      "execution_count": 35,
      "outputs": [
        {
          "output_type": "stream",
          "text": [
            "              precision    recall  f1-score   support\n",
            "\n",
            "           0       0.83      0.90      0.87       641\n",
            "           1       0.92      0.86      0.89       844\n",
            "\n",
            "    accuracy                           0.88      1485\n",
            "   macro avg       0.88      0.88      0.88      1485\n",
            "weighted avg       0.88      0.88      0.88      1485\n",
            "\n"
          ],
          "name": "stdout"
        }
      ]
    }
  ]
}